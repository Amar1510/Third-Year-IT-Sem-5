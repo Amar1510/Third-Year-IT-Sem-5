{
  "nbformat": 4,
  "nbformat_minor": 0,
  "metadata": {
    "colab": {
      "name": "Assignment 2 WITHOUT INBUILT FUNCTIONS ComputationalStatsLab 14/08/2021.ipynb.ipynb",
      "provenance": [],
      "collapsed_sections": []
    },
    "kernelspec": {
      "name": "python3",
      "display_name": "Python 3"
    },
    "language_info": {
      "name": "python"
    }
  },
  "cells": [
    {
      "cell_type": "markdown",
      "metadata": {
        "id": "Sw61BWKf_Y7U"
      },
      "source": [
        "#  ***33323 - Aditya Kangune***\n",
        "# **Assignment 2**\n",
        "# **WITHOUT** inbuilt functions"
      ]
    },
    {
      "cell_type": "markdown",
      "metadata": {
        "id": "pLDA10qk_iED"
      },
      "source": [
        "1. Plot the Normal Distribution for class test result of a particular subject. (Choose the Dataset of your choice with min. 100 students)\n",
        "\n",
        "2. Identify the Skewness and Kurtosis"
      ]
    },
    {
      "cell_type": "markdown",
      "metadata": {
        "id": "QUfppA77_jvF"
      },
      "source": [
        "Chosen dataset link: https://www.kaggle.com/uciml/student-alcohol-consumption"
      ]
    },
    {
      "cell_type": "code",
      "metadata": {
        "id": "0gRrxDeFDASD"
      },
      "source": [
        "import math"
      ],
      "execution_count": 184,
      "outputs": []
    },
    {
      "cell_type": "markdown",
      "metadata": {
        "id": "JndD5tDxAMTG"
      },
      "source": [
        "# Reading a file and storing it in form of tuple"
      ]
    },
    {
      "cell_type": "code",
      "metadata": {
        "id": "o-U0KbfVARzk"
      },
      "source": [
        "def custom_csv_reader(filestr):\n",
        "  with open(filestr, 'r') as f:\n",
        "      results = []\n",
        "      for line in f:\n",
        "              words = line.split(',')\n",
        "              results.append((words[0], words[1:]))\n",
        "      return results"
      ],
      "execution_count": 185,
      "outputs": []
    },
    {
      "cell_type": "code",
      "metadata": {
        "colab": {
          "base_uri": "https://localhost:8080/"
        },
        "id": "xpkjyhVmAaUK",
        "outputId": "a0e7a3b9-e11a-4700-b0a7-d6f81e7420e6"
      },
      "source": [
        "df = custom_csv_reader(\"/content/drive/MyDrive/Datasets/student-mat.csv\")\n",
        "print(df)"
      ],
      "execution_count": 186,
      "outputs": [
        {
          "output_type": "stream",
          "name": "stdout",
          "text": [
            "[('school', ['sex', 'age', 'address', 'famsize', 'Pstatus', 'Medu', 'Fedu', 'Mjob', 'Fjob', 'reason', 'guardian', 'traveltime', 'studytime', 'failures', 'schoolsup', 'famsup', 'paid', 'activities', 'nursery', 'higher', 'internet', 'famrel', 'freetime', 'goout', 'health', 'absences', 'Grades\\n']), ('GP', ['F', '18', 'U', 'GT3', 'A', '4', '4', 'at_home', 'teacher', 'course', 'mother', '2', '2', '0', 'yes', 'no', 'no', 'no', 'yes', 'yes', 'no', '4', '3', '4', '3', '6', '5\\n']), ('GP', ['F', '17', 'U', 'GT3', 'T', '1', '1', 'at_home', 'other', 'course', 'father', '1', '2', '0', 'no', 'yes', 'no', 'no', 'no', 'yes', 'yes', '5', '3', '3', '3', '4', '5\\n']), ('GP', ['F', '15', 'U', 'LE3', 'T', '1', '1', 'at_home', 'other', 'other', 'mother', '1', '2', '3', 'yes', 'no', 'yes', 'no', 'yes', 'yes', 'yes', '4', '3', '2', '3', '10', '7\\n']), ('GP', ['F', '15', 'U', 'GT3', 'T', '4', '2', 'health', 'services', 'home', 'mother', '1', '3', '0', 'no', 'yes', 'yes', 'yes', 'yes', 'yes', 'yes', '3', '2', '2', '5', '2', '15\\n']), ('GP', ['F', '16', 'U', 'GT3', 'T', '3', '3', 'other', 'other', 'home', 'father', '1', '2', '0', 'no', 'yes', 'yes', 'no', 'yes', 'yes', 'no', '4', '3', '2', '5', '4', '6\\n']), ('GP', ['M', '16', 'U', 'LE3', 'T', '4', '3', 'services', 'other', 'reputation', 'mother', '1', '2', '0', 'no', 'yes', 'yes', 'yes', 'yes', 'yes', 'yes', '5', '4', '2', '5', '10', '15\\n']), ('GP', ['M', '16', 'U', 'LE3', 'T', '2', '2', 'other', 'other', 'home', 'mother', '1', '2', '0', 'no', 'no', 'no', 'no', 'yes', 'yes', 'yes', '4', '4', '4', '3', '0', '12\\n']), ('GP', ['F', '17', 'U', 'GT3', 'A', '4', '4', 'other', 'teacher', 'home', 'mother', '2', '2', '0', 'yes', 'yes', 'no', 'no', 'yes', 'yes', 'no', '4', '1', '4', '1', '6', '6\\n']), ('GP', ['M', '15', 'U', 'LE3', 'A', '3', '2', 'services', 'other', 'home', 'mother', '1', '2', '0', 'no', 'yes', 'yes', 'no', 'yes', 'yes', 'yes', '4', '2', '2', '1', '0', '16\\n']), ('GP', ['M', '15', 'U', 'GT3', 'T', '3', '4', 'other', 'other', 'home', 'mother', '1', '2', '0', 'no', 'yes', 'yes', 'yes', 'yes', 'yes', 'yes', '5', '5', '1', '5', '0', '14\\n']), ('GP', ['F', '15', 'U', 'GT3', 'T', '4', '4', 'teacher', 'health', 'reputation', 'mother', '1', '2', '0', 'no', 'yes', 'yes', 'no', 'yes', 'yes', 'yes', '3', '3', '3', '2', '0', '10\\n']), ('GP', ['F', '15', 'U', 'GT3', 'T', '2', '1', 'services', 'other', 'reputation', 'father', '3', '3', '0', 'no', 'yes', 'no', 'yes', 'yes', 'yes', 'yes', '5', '2', '2', '4', '4', '10\\n']), ('GP', ['M', '15', 'U', 'LE3', 'T', '4', '4', 'health', 'services', 'course', 'father', '1', '1', '0', 'no', 'yes', 'yes', 'yes', 'yes', 'yes', 'yes', '4', '3', '3', '5', '2', '14\\n']), ('GP', ['M', '15', 'U', 'GT3', 'T', '4', '3', 'teacher', 'other', 'course', 'mother', '2', '2', '0', 'no', 'yes', 'yes', 'no', 'yes', 'yes', 'yes', '5', '4', '3', '3', '2', '10\\n']), ('GP', ['M', '15', 'U', 'GT3', 'A', '2', '2', 'other', 'other', 'home', 'other', '1', '3', '0', 'no', 'yes', 'no', 'no', 'yes', 'yes', 'yes', '4', '5', '2', '3', '0', '14\\n']), ('GP', ['F', '16', 'U', 'GT3', 'T', '4', '4', 'health', 'other', 'home', 'mother', '1', '1', '0', 'no', 'yes', 'no', 'no', 'yes', 'yes', 'yes', '4', '4', '4', '2', '4', '14\\n']), ('GP', ['F', '16', 'U', 'GT3', 'T', '4', '4', 'services', 'services', 'reputation', 'mother', '1', '3', '0', 'no', 'yes', 'yes', 'yes', 'yes', 'yes', 'yes', '3', '2', '3', '2', '6', '13\\n']), ('GP', ['F', '16', 'U', 'GT3', 'T', '3', '3', 'other', 'other', 'reputation', 'mother', '3', '2', '0', 'yes', 'yes', 'no', 'yes', 'yes', 'yes', 'no', '5', '3', '2', '4', '4', '8\\n']), ('GP', ['M', '17', 'U', 'GT3', 'T', '3', '2', 'services', 'services', 'course', 'mother', '1', '1', '3', 'no', 'yes', 'no', 'yes', 'yes', 'yes', 'yes', '5', '5', '5', '5', '16', '6\\n']), ('GP', ['M', '16', 'U', 'LE3', 'T', '4', '3', 'health', 'other', 'home', 'father', '1', '1', '0', 'no', 'no', 'yes', 'yes', 'yes', 'yes', 'yes', '3', '1', '3', '5', '4', '8\\n']), ('GP', ['M', '15', 'U', 'GT3', 'T', '4', '3', 'teacher', 'other', 'reputation', 'mother', '1', '2', '0', 'no', 'no', 'no', 'no', 'yes', 'yes', 'yes', '4', '4', '1', '1', '0', '13\\n']), ('GP', ['M', '15', 'U', 'GT3', 'T', '4', '4', 'health', 'health', 'other', 'father', '1', '1', '0', 'no', 'yes', 'yes', 'no', 'yes', 'yes', 'yes', '5', '4', '2', '5', '0', '12\\n']), ('GP', ['M', '16', 'U', 'LE3', 'T', '4', '2', 'teacher', 'other', 'course', 'mother', '1', '2', '0', 'no', 'no', 'no', 'yes', 'yes', 'yes', 'yes', '4', '5', '1', '5', '2', '15\\n']), ('GP', ['M', '16', 'U', 'LE3', 'T', '2', '2', 'other', 'other', 'reputation', 'mother', '2', '2', '0', 'no', 'yes', 'no', 'yes', 'yes', 'yes', 'yes', '5', '4', '4', '5', '0', '13\\n']), ('GP', ['F', '15', 'R', 'GT3', 'T', '2', '4', 'services', 'health', 'course', 'mother', '1', '3', '0', 'yes', 'yes', 'yes', 'yes', 'yes', 'yes', 'yes', '4', '3', '2', '5', '2', '10\\n']), ('GP', ['F', '16', 'U', 'GT3', 'T', '2', '2', 'services', 'services', 'home', 'mother', '1', '1', '2', 'no', 'yes', 'yes', 'no', 'no', 'yes', 'yes', '1', '2', '2', '5', '14', '6\\n']), ('GP', ['M', '15', 'U', 'GT3', 'T', '2', '2', 'other', 'other', 'home', 'mother', '1', '1', '0', 'no', 'yes', 'yes', 'no', 'yes', 'yes', 'yes', '4', '2', '2', '5', '2', '12\\n']), ('GP', ['M', '15', 'U', 'GT3', 'T', '4', '2', 'health', 'services', 'other', 'mother', '1', '1', '0', 'no', 'no', 'yes', 'no', 'yes', 'yes', 'yes', '2', '2', '4', '1', '4', '15\\n']), ('GP', ['M', '16', 'U', 'LE3', 'A', '3', '4', 'services', 'other', 'home', 'mother', '1', '2', '0', 'yes', 'yes', 'no', 'yes', 'yes', 'yes', 'yes', '5', '3', '3', '5', '4', '11\\n']), ('GP', ['M', '16', 'U', 'GT3', 'T', '4', '4', 'teacher', 'teacher', 'home', 'mother', '1', '2', '0', 'no', 'yes', 'yes', 'yes', 'yes', 'yes', 'yes', '4', '4', '5', '5', '16', '10\\n']), ('GP', ['M', '15', 'U', 'GT3', 'T', '4', '4', 'health', 'services', 'home', 'mother', '1', '2', '0', 'no', 'yes', 'yes', 'no', 'no', 'yes', 'yes', '5', '4', '2', '5', '0', '9\\n']), ('GP', ['M', '15', 'U', 'GT3', 'T', '4', '4', 'services', 'services', 'reputation', 'mother', '2', '2', '0', 'no', 'yes', 'no', 'yes', 'yes', 'yes', 'yes', '4', '3', '1', '5', '0', '17\\n']), ('GP', ['M', '15', 'R', 'GT3', 'T', '4', '3', 'teacher', 'at_home', 'course', 'mother', '1', '2', '0', 'no', 'yes', 'no', 'yes', 'yes', 'yes', 'yes', '4', '5', '2', '5', '0', '17\\n']), ('GP', ['M', '15', 'U', 'LE3', 'T', '3', '3', 'other', 'other', 'course', 'mother', '1', '2', '0', 'no', 'no', 'no', 'yes', 'no', 'yes', 'yes', '5', '3', '2', '2', '0', '8\\n']), ('GP', ['M', '16', 'U', 'GT3', 'T', '3', '2', 'other', 'other', 'home', 'mother', '1', '1', '0', 'no', 'yes', 'yes', 'no', 'no', 'yes', 'yes', '5', '4', '3', '5', '0', '12\\n']), ('GP', ['F', '15', 'U', 'GT3', 'T', '2', '3', 'other', 'other', 'other', 'father', '2', '1', '0', 'no', 'yes', 'no', 'yes', 'yes', 'yes', 'no', '3', '5', '1', '5', '0', '8\\n']), ('GP', ['M', '15', 'U', 'LE3', 'T', '4', '3', 'teacher', 'services', 'home', 'mother', '1', '3', '0', 'no', 'yes', 'no', 'yes', 'yes', 'yes', 'yes', '5', '4', '3', '4', '2', '15\\n']), ('GP', ['M', '16', 'R', 'GT3', 'A', '4', '4', 'other', 'teacher', 'reputation', 'mother', '2', '3', '0', 'no', 'yes', 'no', 'yes', 'yes', 'yes', 'yes', '2', '4', '3', '5', '7', '15\\n']), ('GP', ['F', '15', 'R', 'GT3', 'T', '3', '4', 'services', 'health', 'course', 'mother', '1', '3', '0', 'yes', 'yes', 'yes', 'yes', 'yes', 'yes', 'yes', '4', '3', '2', '5', '2', '12\\n']), ('GP', ['F', '15', 'R', 'GT3', 'T', '2', '2', 'at_home', 'other', 'reputation', 'mother', '1', '1', '0', 'yes', 'yes', 'yes', 'yes', 'yes', 'yes', 'no', '4', '3', '1', '2', '8', '14\\n']), ('GP', ['F', '16', 'U', 'LE3', 'T', '2', '2', 'other', 'other', 'home', 'mother', '2', '2', '1', 'no', 'yes', 'no', 'yes', 'no', 'yes', 'yes', '3', '3', '3', '3', '25', '7\\n']), ('GP', ['M', '15', 'U', 'LE3', 'T', '4', '4', 'teacher', 'other', 'home', 'other', '1', '1', '0', 'no', 'yes', 'no', 'no', 'no', 'yes', 'yes', '5', '4', '3', '5', '8', '12\\n']), ('GP', ['M', '15', 'U', 'GT3', 'T', '4', '4', 'services', 'teacher', 'course', 'father', '1', '2', '0', 'no', 'yes', 'no', 'yes', 'yes', 'yes', 'yes', '4', '3', '3', '5', '2', '19\\n']), ('GP', ['M', '15', 'U', 'GT3', 'T', '2', '2', 'services', 'services', 'course', 'father', '1', '1', '0', 'yes', 'yes', 'no', 'no', 'yes', 'yes', 'yes', '5', '4', '1', '1', '0', '8\\n']), ('GP', ['F', '16', 'U', 'LE3', 'T', '2', '2', 'other', 'at_home', 'course', 'father', '2', '2', '1', 'yes', 'no', 'no', 'yes', 'yes', 'yes', 'yes', '4', '3', '3', '5', '14', '10\\n']), ('GP', ['F', '15', 'U', 'LE3', 'A', '4', '3', 'other', 'other', 'course', 'mother', '1', '2', '0', 'yes', 'yes', 'yes', 'yes', 'yes', 'yes', 'yes', '5', '2', '2', '5', '8', '8\\n']), ('GP', ['F', '16', 'U', 'LE3', 'A', '3', '3', 'other', 'services', 'home', 'mother', '1', '2', '0', 'no', 'yes', 'no', 'no', 'yes', 'yes', 'yes', '2', '3', '5', '3', '12', '11\\n']), ('GP', ['M', '16', 'U', 'GT3', 'T', '4', '3', 'health', 'services', 'reputation', 'mother', '1', '4', '0', 'no', 'no', 'no', 'yes', 'yes', 'yes', 'yes', '4', '2', '2', '2', '4', '19\\n']), ('GP', ['M', '15', 'U', 'GT3', 'T', '4', '2', 'teacher', 'other', 'home', 'mother', '1', '2', '0', 'no', 'yes', 'yes', 'no', 'yes', 'yes', 'no', '4', '3', '3', '5', '2', '15\\n']), ('GP', ['F', '15', 'U', 'GT3', 'T', '4', '4', 'services', 'teacher', 'other', 'father', '1', '2', '1', 'yes', 'yes', 'no', 'yes', 'no', 'yes', 'yes', '4', '4', '4', '3', '2', '7\\n']), ('GP', ['F', '16', 'U', 'LE3', 'T', '2', '2', 'services', 'services', 'course', 'mother', '3', '2', '0', 'no', 'yes', 'yes', 'no', 'yes', 'yes', 'yes', '4', '3', '3', '4', '2', '12\\n']), ('GP', ['F', '15', 'U', 'LE3', 'T', '4', '2', 'health', 'other', 'other', 'mother', '1', '2', '0', 'no', 'yes', 'yes', 'no', 'yes', 'yes', 'yes', '4', '3', '3', '5', '2', '11\\n']), ('GP', ['M', '15', 'U', 'LE3', 'A', '4', '2', 'health', 'health', 'other', 'father', '2', '1', '1', 'no', 'no', 'no', 'no', 'yes', 'yes', 'no', '5', '5', '5', '5', '6', '11\\n']), ('GP', ['F', '15', 'U', 'GT3', 'T', '4', '4', 'services', 'services', 'course', 'mother', '1', '1', '0', 'yes', 'yes', 'yes', 'no', 'yes', 'yes', 'yes', '3', '3', '4', '5', '0', '8\\n']), ('GP', ['F', '15', 'U', 'LE3', 'A', '3', '3', 'other', 'other', 'other', 'mother', '1', '1', '0', 'no', 'no', 'yes', 'no', 'yes', 'yes', 'yes', '5', '3', '4', '1', '6', '10\\n']), ('GP', ['F', '16', 'U', 'GT3', 'A', '2', '1', 'other', 'other', 'other', 'mother', '1', '2', '0', 'no', 'no', 'yes', 'yes', 'yes', 'yes', 'yes', '5', '3', '4', '2', '8', '8\\n']), ('GP', ['F', '15', 'U', 'GT3', 'A', '4', '3', 'services', 'services', 'reputation', 'mother', '1', '2', '0', 'no', 'yes', 'yes', 'yes', 'yes', 'yes', 'yes', '4', '3', '2', '1', '0', '14\\n']), ('GP', ['M', '15', 'U', 'GT3', 'T', '4', '4', 'teacher', 'health', 'reputation', 'mother', '1', '2', '0', 'no', 'yes', 'no', 'yes', 'yes', 'yes', 'no', '3', '2', '2', '5', '4', '14\\n']), ('GP', ['M', '15', 'U', 'LE3', 'T', '1', '2', 'other', 'at_home', 'home', 'father', '1', '2', '0', 'yes', 'yes', 'no', 'yes', 'yes', 'yes', 'yes', '4', '3', '2', '5', '2', '9\\n']), ('GP', ['F', '16', 'U', 'GT3', 'T', '4', '2', 'services', 'other', 'course', 'mother', '1', '2', '0', 'no', 'yes', 'no', 'no', 'yes', 'yes', 'yes', '4', '2', '3', '5', '2', '15\\n']), ('GP', ['F', '16', 'R', 'GT3', 'T', '4', '4', 'health', 'teacher', 'other', 'mother', '1', '2', '0', 'no', 'yes', 'no', 'yes', 'yes', 'yes', 'no', '2', '4', '4', '4', '6', '10\\n']), ('GP', ['F', '16', 'U', 'GT3', 'T', '1', '1', 'services', 'services', 'course', 'father', '4', '1', '0', 'yes', 'yes', 'no', 'yes', 'no', 'yes', 'yes', '5', '5', '5', '5', '6', '10\\n']), ('GP', ['F', '16', 'U', 'LE3', 'T', '1', '2', 'other', 'services', 'reputation', 'father', '1', '2', '0', 'yes', 'no', 'no', 'yes', 'yes', 'yes', 'yes', '4', '4', '3', '1', '4', '8\\n']), ('GP', ['F', '16', 'U', 'GT3', 'T', '4', '3', 'teacher', 'health', 'home', 'mother', '1', '3', '0', 'yes', 'yes', 'yes', 'yes', 'yes', 'yes', 'yes', '3', '4', '4', '4', '2', '10\\n']), ('GP', ['F', '15', 'U', 'LE3', 'T', '4', '3', 'services', 'services', 'reputation', 'father', '1', '2', '0', 'yes', 'no', 'no', 'yes', 'yes', 'yes', 'yes', '4', '4', '4', '2', '0', '10\\n']), ('GP', ['F', '16', 'U', 'LE3', 'T', '4', '3', 'teacher', 'services', 'course', 'mother', '3', '2', '0', 'no', 'yes', 'no', 'yes', 'yes', 'yes', 'yes', '5', '4', '3', '1', '2', '16\\n']), ('GP', ['M', '15', 'U', 'GT3', 'A', '4', '4', 'other', 'services', 'reputation', 'mother', '1', '4', '0', 'no', 'yes', 'no', 'yes', 'no', 'yes', 'yes', '1', '3', '3', '3', '4', '13\\n']), ('GP', ['F', '16', 'U', 'GT3', 'T', '3', '1', 'services', 'other', 'course', 'mother', '1', '4', '0', 'yes', 'yes', 'yes', 'no', 'yes', 'yes', 'yes', '4', '3', '3', '5', '4', '7\\n']), ('GP', ['F', '15', 'R', 'LE3', 'T', '2', '2', 'health', 'services', 'reputation', 'mother', '2', '2', '0', 'yes', 'yes', 'yes', 'no', 'yes', 'yes', 'yes', '4', '1', '3', '4', '2', '8\\n']), ('GP', ['F', '15', 'R', 'LE3', 'T', '3', '1', 'other', 'other', 'reputation', 'father', '2', '4', '0', 'no', 'yes', 'no', 'no', 'no', 'yes', 'yes', '4', '4', '2', '3', '12', '16\\n']), ('GP', ['M', '16', 'U', 'GT3', 'T', '3', '1', 'other', 'other', 'reputation', 'father', '2', '4', '0', 'no', 'yes', 'yes', 'no', 'yes', 'yes', 'yes', '4', '3', '2', '5', '0', '13\\n']), ('GP', ['M', '15', 'U', 'GT3', 'T', '4', '2', 'other', 'other', 'course', 'mother', '1', '4', '0', 'no', 'no', 'no', 'no', 'yes', 'yes', 'yes', '3', '3', '3', '3', '0', '10\\n']), ('GP', ['F', '15', 'R', 'GT3', 'T', '1', '1', 'other', 'other', 'reputation', 'mother', '1', '2', '2', 'yes', 'yes', 'no', 'no', 'no', 'yes', 'yes', '3', '3', '4', '5', '2', '8\\n']), ('GP', ['M', '16', 'U', 'GT3', 'T', '3', '1', 'other', 'other', 'reputation', 'mother', '1', '1', '0', 'no', 'no', 'no', 'yes', 'yes', 'yes', 'no', '5', '3', '2', '5', '2', '12\\n']), ('GP', ['F', '16', 'U', 'GT3', 'T', '3', '3', 'other', 'services', 'home', 'mother', '1', '2', '0', 'yes', 'yes', 'yes', 'yes', 'yes', 'yes', 'yes', '4', '3', '3', '5', '54', '11\\n']), ('GP', ['M', '15', 'U', 'GT3', 'T', '4', '3', 'teacher', 'other', 'home', 'mother', '1', '2', '0', 'no', 'yes', 'yes', 'yes', 'yes', 'yes', 'yes', '4', '3', '3', '5', '6', '9\\n']), ('GP', ['M', '15', 'U', 'GT3', 'T', '4', '0', 'teacher', 'other', 'course', 'mother', '2', '4', '0', 'no', 'no', 'no', 'yes', 'yes', 'yes', 'yes', '3', '4', '3', '1', '8', '11\\n']), ('GP', ['F', '16', 'U', 'GT3', 'T', '2', '2', 'other', 'other', 'reputation', 'mother', '1', '4', '0', 'no', 'no', 'yes', 'no', 'yes', 'yes', 'yes', '5', '2', '3', '3', '0', '11\\n']), ('GP', ['M', '17', 'U', 'GT3', 'T', '2', '1', 'other', 'other', 'home', 'mother', '2', '1', '3', 'yes', 'yes', 'no', 'yes', 'yes', 'no', 'yes', '4', '5', '1', '3', '2', '8\\n']), ('GP', ['F', '16', 'U', 'GT3', 'T', '3', '4', 'at_home', 'other', 'course', 'mother', '1', '2', '0', 'no', 'yes', 'no', 'no', 'yes', 'yes', 'yes', '2', '4', '3', '3', '12', '5\\n']), ('GP', ['M', '15', 'U', 'GT3', 'T', '2', '3', 'other', 'services', 'course', 'father', '1', '1', '0', 'yes', 'yes', 'yes', 'yes', 'no', 'yes', 'yes', '3', '2', '2', '3', '2', '10\\n']), ('GP', ['M', '15', 'U', 'GT3', 'T', '2', '3', 'other', 'other', 'home', 'mother', '1', '3', '0', 'yes', 'no', 'yes', 'no', 'no', 'yes', 'yes', '5', '3', '2', '5', '4', '11\\n']), ('GP', ['F', '15', 'U', 'LE3', 'T', '3', '2', 'services', 'other', 'reputation', 'mother', '1', '2', '0', 'no', 'yes', 'yes', 'no', 'yes', 'yes', 'yes', '4', '4', '4', '5', '10', '7\\n']), ('GP', ['M', '15', 'U', 'LE3', 'T', '2', '2', 'services', 'services', 'home', 'mother', '2', '2', '0', 'no', 'no', 'yes', 'yes', 'yes', 'yes', 'yes', '5', '3', '3', '4', '4', '15\\n']), ('GP', ['F', '15', 'U', 'GT3', 'T', '1', '1', 'other', 'other', 'home', 'father', '1', '2', '0', 'no', 'yes', 'no', 'yes', 'no', 'yes', 'yes', '4', '3', '2', '4', '2', '9\\n']), ('GP', ['F', '15', 'U', 'GT3', 'T', '4', '4', 'services', 'services', 'reputation', 'father', '2', '2', '2', 'no', 'no', 'yes', 'no', 'yes', 'yes', 'yes', '4', '4', '4', '5', '6', '7\\n']), ('GP', ['F', '16', 'U', 'LE3', 'T', '2', '2', 'at_home', 'other', 'course', 'mother', '1', '2', '0', 'no', 'yes', 'no', 'no', 'yes', 'yes', 'no', '4', '3', '4', '2', '4', '8\\n']), ('GP', ['F', '15', 'U', 'GT3', 'T', '4', '2', 'other', 'other', 'reputation', 'mother', '1', '3', '0', 'no', 'yes', 'no', 'yes', 'yes', 'yes', 'yes', '5', '3', '3', '1', '4', '13\\n']), ('GP', ['M', '16', 'U', 'GT3', 'T', '2', '2', 'services', 'other', 'reputation', 'father', '2', '2', '1', 'no', 'no', 'yes', 'yes', 'no', 'yes', 'yes', '4', '4', '2', '3', '12', '11\\n']), ('GP', ['M', '16', 'U', 'LE3', 'A', '4', '4', 'teacher', 'health', 'reputation', 'mother', '1', '2', '0', 'no', 'yes', 'no', 'no', 'yes', 'yes', 'no', '4', '1', '3', '5', '18', '8\\n']), ('GP', ['F', '16', 'U', 'GT3', 'T', '3', '3', 'other', 'other', 'home', 'mother', '1', '3', '0', 'no', 'yes', 'yes', 'no', 'yes', 'yes', 'yes', '4', '3', '3', '4', '0', '7\\n']), ('GP', ['F', '15', 'U', 'GT3', 'T', '4', '3', 'services', 'other', 'reputation', 'mother', '1', '1', '0', 'no', 'no', 'yes', 'yes', 'yes', 'yes', 'yes', '4', '5', '5', '1', '4', '16\\n']), ('GP', ['F', '16', 'U', 'LE3', 'T', '3', '1', 'other', 'other', 'home', 'father', '1', '2', '0', 'yes', 'yes', 'no', 'no', 'yes', 'yes', 'no', '3', '3', '3', '2', '4', '7\\n']), ('GP', ['F', '16', 'U', 'GT3', 'T', '4', '2', 'teacher', 'services', 'home', 'mother', '2', '2', '0', 'no', 'yes', 'yes', 'yes', 'yes', 'yes', 'yes', '5', '3', '3', '1', '0', '11\\n']), ('GP', ['M', '15', 'U', 'LE3', 'T', '2', '2', 'services', 'health', 'reputation', 'mother', '1', '4', '0', 'no', 'yes', 'no', 'yes', 'yes', 'yes', 'yes', '4', '3', '4', '4', '6', '11\\n']), ('GP', ['F', '15', 'R', 'GT3', 'T', '1', '1', 'at_home', 'other', 'home', 'mother', '2', '4', '1', 'yes', 'yes', 'yes', 'yes', 'yes', 'yes', 'yes', '3', '1', '2', '1', '2', '7\\n']), ('GP', ['M', '16', 'R', 'GT3', 'T', '4', '3', 'services', 'other', 'reputation', 'mother', '2', '1', '0', 'yes', 'yes', 'no', 'yes', 'no', 'yes', 'yes', '3', '3', '3', '4', '2', '11\\n']), ('GP', ['F', '16', 'U', 'GT3', 'T', '2', '1', 'other', 'other', 'course', 'mother', '1', '2', '0', 'no', 'yes', 'yes', 'no', 'yes', 'yes', 'no', '4', '3', '5', '5', '2', '8\\n']), ('GP', ['F', '16', 'U', 'GT3', 'T', '4', '4', 'other', 'other', 'reputation', 'mother', '1', '1', '0', 'no', 'no', 'no', 'yes', 'no', 'yes', 'yes', '5', '3', '4', '1', '6', '11\\n']), ('GP', ['F', '16', 'U', 'GT3', 'T', '4', '3', 'other', 'at_home', 'course', 'mother', '1', '3', '0', 'yes', 'yes', 'yes', 'no', 'yes', 'yes', 'yes', '5', '3', '5', '3', '0', '7\\n']), ('GP', ['M', '16', 'U', 'GT3', 'T', '4', '4', 'services', 'services', 'other', 'mother', '1', '1', '0', 'yes', 'yes', 'yes', 'yes', 'yes', 'yes', 'yes', '4', '5', '5', '4', '14', '7\\n']), ('GP', ['M', '16', 'U', 'GT3', 'T', '4', '4', 'services', 'teacher', 'other', 'father', '1', '3', '0', 'no', 'yes', 'no', 'yes', 'yes', 'yes', 'yes', '4', '4', '3', '4', '0', '16\\n']), ('GP', ['M', '15', 'U', 'GT3', 'T', '4', '4', 'services', 'other', 'course', 'mother', '1', '1', '0', 'no', 'yes', 'no', 'yes', 'no', 'yes', 'yes', '5', '3', '3', '5', '4', '10\\n']), ('GP', ['F', '15', 'U', 'GT3', 'T', '3', '2', 'services', 'other', 'home', 'mother', '2', '2', '0', 'yes', 'yes', 'yes', 'no', 'yes', 'yes', 'yes', '4', '3', '5', '2', '26', '7\\n']), ('GP', ['M', '15', 'U', 'GT3', 'A', '3', '4', 'services', 'other', 'course', 'mother', '1', '2', '0', 'no', 'yes', 'yes', 'yes', 'yes', 'yes', 'yes', '5', '4', '4', '1', '0', '16\\n']), ('GP', ['F', '15', 'U', 'GT3', 'A', '3', '3', 'other', 'health', 'reputation', 'father', '1', '4', '0', 'yes', 'no', 'no', 'no', 'yes', 'yes', 'no', '4', '3', '3', '4', '10', '10\\n']), ('GP', ['F', '15', 'U', 'GT3', 'T', '2', '2', 'other', 'other', 'course', 'mother', '1', '4', '0', 'yes', 'yes', 'yes', 'no', 'yes', 'yes', 'yes', '5', '1', '2', '3', '8', '7\\n']), ('GP', ['M', '16', 'U', 'GT3', 'T', '3', '3', 'services', 'other', 'home', 'father', '1', '3', '0', 'no', 'yes', 'no', 'yes', 'yes', 'yes', 'yes', '5', '3', '3', '5', '2', '16\\n']), ('GP', ['M', '15', 'R', 'GT3', 'T', '4', '4', 'other', 'other', 'home', 'father', '4', '4', '0', 'no', 'yes', 'yes', 'yes', 'yes', 'yes', 'yes', '1', '3', '5', '1', '6', '10\\n']), ('GP', ['F', '16', 'U', 'LE3', 'T', '4', '4', 'health', 'health', 'other', 'mother', '1', '3', '0', 'no', 'yes', 'yes', 'yes', 'yes', 'yes', 'yes', '5', '4', '5', '4', '4', '14\\n']), ('GP', ['M', '15', 'U', 'LE3', 'A', '4', '4', 'teacher', 'teacher', 'course', 'mother', '1', '1', '0', 'no', 'no', 'no', 'yes', 'yes', 'yes', 'yes', '5', '5', '3', '4', '6', '18\\n']), ('GP', ['F', '16', 'R', 'GT3', 'T', '3', '3', 'services', 'other', 'reputation', 'father', '1', '3', '1', 'yes', 'yes', 'no', 'yes', 'yes', 'yes', 'yes', '4', '1', '2', '2', '0', '7\\n']), ('GP', ['F', '16', 'U', 'GT3', 'T', '2', '2', 'at_home', 'other', 'home', 'mother', '1', '2', '1', 'yes', 'no', 'no', 'yes', 'yes', 'yes', 'yes', '3', '1', '2', '5', '6', '10\\n']), ('GP', ['M', '15', 'U', 'LE3', 'T', '4', '2', 'teacher', 'other', 'course', 'mother', '1', '1', '0', 'no', 'no', 'no', 'no', 'yes', 'yes', 'yes', '3', '5', '2', '3', '10', '18\\n']), ('GP', ['M', '15', 'R', 'GT3', 'T', '2', '1', 'health', 'services', 'reputation', 'mother', '1', '2', '0', 'no', 'no', 'no', 'yes', 'yes', 'yes', 'yes', '5', '4', '2', '5', '8', '9\\n']), ('GP', ['M', '16', 'U', 'GT3', 'T', '4', '4', 'teacher', 'teacher', 'course', 'father', '1', '2', '0', 'no', 'yes', 'no', 'yes', 'yes', 'yes', 'yes', '5', '4', '4', '5', '2', '15\\n']), ('GP', ['M', '15', 'U', 'GT3', 'T', '4', '4', 'other', 'teacher', 'reputation', 'father', '2', '2', '0', 'no', 'yes', 'no', 'yes', 'yes', 'yes', 'no', '4', '4', '3', '2', '2', '11\\n']), ('GP', ['M', '16', 'U', 'GT3', 'T', '3', '3', 'other', 'services', 'home', 'father', '2', '1', '0', 'no', 'no', 'no', 'yes', 'yes', 'yes', 'yes', '5', '4', '2', '5', '0', '13\\n']), ('GP', ['M', '17', 'R', 'GT3', 'T', '1', '3', 'other', 'other', 'course', 'father', '3', '2', '1', 'no', 'yes', 'no', 'yes', 'yes', 'yes', 'yes', '5', '2', '4', '5', '20', '9\\n']), ('GP', ['M', '15', 'U', 'GT3', 'T', '3', '4', 'other', 'other', 'reputation', 'father', '1', '1', '0', 'no', 'no', 'no', 'no', 'yes', 'yes', 'yes', '3', '4', '3', '4', '6', '14\\n']), ('GP', ['F', '15', 'U', 'GT3', 'T', '1', '2', 'at_home', 'services', 'course', 'mother', '1', '2', '0', 'no', 'no', 'no', 'no', 'no', 'yes', 'yes', '3', '2', '3', '1', '2', '16\\n']), ('GP', ['M', '15', 'U', 'GT3', 'T', '2', '2', 'services', 'services', 'home', 'father', '1', '4', '0', 'no', 'yes', 'yes', 'yes', 'yes', 'yes', 'yes', '5', '5', '4', '5', '6', '16\\n']), ('GP', ['F', '16', 'U', 'LE3', 'T', '2', '4', 'other', 'health', 'course', 'father', '2', '2', '0', 'no', 'yes', 'yes', 'yes', 'yes', 'yes', 'yes', '4', '2', '2', '5', '2', '13\\n']), ('GP', ['M', '16', 'U', 'GT3', 'T', '4', '4', 'health', 'other', 'course', 'mother', '1', '1', '0', 'no', 'yes', 'no', 'yes', 'yes', 'yes', 'yes', '3', '4', '4', '5', '18', '14\\n']), ('GP', ['F', '16', 'U', 'GT3', 'T', '2', '2', 'other', 'other', 'home', 'mother', '1', '2', '0', 'no', 'no', 'yes', 'no', 'yes', 'yes', 'yes', '5', '4', '4', '5', '0', '8\\n']), ('GP', ['M', '15', 'U', 'GT3', 'T', '3', '4', 'services', 'services', 'home', 'father', '1', '1', '0', 'yes', 'no', 'no', 'no', 'yes', 'yes', 'yes', '5', '5', '5', '5', '0', '13\\n']), ('GP', ['F', '15', 'U', 'LE3', 'A', '3', '4', 'other', 'other', 'home', 'mother', '1', '2', '0', 'yes', 'no', 'no', 'yes', 'yes', 'yes', 'yes', '5', '3', '2', '1', '0', '7\\n']), ('GP', ['F', '19', 'U', 'GT3', 'T', '0', '1', 'at_home', 'other', 'course', 'other', '1', '2', '3', 'no', 'yes', 'no', 'no', 'no', 'no', 'no', '3', '4', '2', '5', '2', '7\\n']), ('GP', ['M', '18', 'R', 'GT3', 'T', '2', '2', 'services', 'other', 'reputation', 'mother', '1', '1', '2', 'no', 'yes', 'no', 'yes', 'yes', 'yes', 'yes', '3', '3', '3', '4', '0', '7\\n']), ('GP', ['M', '16', 'R', 'GT3', 'T', '4', '4', 'teacher', 'teacher', 'course', 'mother', '1', '1', '0', 'no', 'no', 'yes', 'yes', 'yes', 'yes', 'yes', '3', '5', '5', '4', '8', '18\\n']), ('GP', ['F', '15', 'R', 'GT3', 'T', '3', '4', 'services', 'teacher', 'course', 'father', '2', '3', '2', 'no', 'yes', 'no', 'no', 'yes', 'yes', 'yes', '4', '2', '2', '5', '0', '12\\n']), ('GP', ['F', '15', 'U', 'GT3', 'T', '1', '1', 'at_home', 'other', 'course', 'mother', '3', '1', '0', 'no', 'yes', 'no', 'yes', 'no', 'yes', 'yes', '4', '3', '3', '4', '0', '8\\n']), ('GP', ['F', '17', 'U', 'LE3', 'T', '2', '2', 'other', 'other', 'course', 'father', '1', '1', '0', 'no', 'yes', 'no', 'no', 'yes', 'yes', 'yes', '3', '4', '4', '5', '12', '10\\n']), ('GP', ['F', '16', 'U', 'GT3', 'A', '3', '4', 'services', 'other', 'course', 'father', '1', '1', '0', 'no', 'no', 'no', 'no', 'yes', 'yes', 'yes', '3', '2', '1', '5', '16', '12\\n']), ('GP', ['M', '15', 'R', 'GT3', 'T', '3', '4', 'at_home', 'teacher', 'course', 'mother', '4', '2', '0', 'no', 'yes', 'no', 'no', 'yes', 'yes', 'no', '5', '3', '3', '5', '0', '9\\n']), ('GP', ['F', '15', 'U', 'GT3', 'T', '4', '4', 'services', 'at_home', 'course', 'mother', '1', '3', '0', 'no', 'yes', 'no', 'yes', 'yes', 'yes', 'yes', '4', '3', '3', '5', '0', '11\\n']), ('GP', ['M', '17', 'R', 'GT3', 'T', '3', '4', 'at_home', 'other', 'course', 'mother', '3', '2', '0', 'no', 'no', 'no', 'no', 'yes', 'yes', 'no', '5', '4', '5', '5', '0', '10\\n']), ('GP', ['F', '16', 'U', 'GT3', 'A', '3', '3', 'other', 'other', 'course', 'other', '2', '1', '2', 'no', 'yes', 'no', 'yes', 'no', 'yes', 'yes', '4', '3', '2', '5', '0', '4\\n']), ('GP', ['M', '16', 'U', 'LE3', 'T', '1', '1', 'services', 'other', 'course', 'mother', '1', '2', '1', 'no', 'no', 'no', 'no', 'yes', 'yes', 'no', '4', '4', '4', '5', '0', '14\\n']), ('GP', ['F', '15', 'U', 'GT3', 'T', '4', '4', 'teacher', 'teacher', 'course', 'mother', '2', '1', '0', 'no', 'no', 'no', 'yes', 'yes', 'yes', 'yes', '4', '3', '2', '5', '0', '16\\n']), ('GP', ['M', '15', 'U', 'GT3', 'T', '4', '3', 'teacher', 'services', 'course', 'father', '2', '4', '0', 'yes', 'yes', 'no', 'no', 'yes', 'yes', 'yes', '2', '2', '2', '3', '0', '7\\n']), ('GP', ['M', '16', 'U', 'LE3', 'T', '2', '2', 'services', 'services', 'reputation', 'father', '2', '1', '2', 'no', 'yes', 'no', 'yes', 'yes', 'yes', 'yes', '2', '3', '3', '2', '8', '9\\n']), ('GP', ['F', '15', 'U', 'GT3', 'T', '4', '4', 'teacher', 'services', 'course', 'mother', '1', '3', '0', 'no', 'yes', 'yes', 'yes', 'yes', 'yes', 'yes', '4', '2', '2', '5', '2', '9\\n']), ('GP', ['F', '16', 'U', 'LE3', 'T', '1', '1', 'at_home', 'at_home', 'course', 'mother', '1', '1', '0', 'no', 'no', 'no', 'no', 'yes', 'yes', 'yes', '3', '4', '4', '1', '2', '14\\n']), ('GP', ['M', '17', 'U', 'GT3', 'T', '2', '1', 'other', 'other', 'home', 'mother', '1', '1', '3', 'no', 'yes', 'no', 'no', 'yes', 'yes', 'yes', '5', '4', '5', '5', '0', '5\\n']), ('GP', ['F', '15', 'U', 'GT3', 'T', '1', '1', 'other', 'services', 'course', 'father', '1', '2', '0', 'no', 'yes', 'yes', 'no', 'yes', 'yes', 'yes', '4', '4', '2', '5', '0', '8\\n']), ('GP', ['F', '15', 'U', 'GT3', 'T', '3', '2', 'health', 'services', 'home', 'father', '1', '2', '3', 'no', 'yes', 'no', 'no', 'yes', 'yes', 'yes', '3', '3', '2', '3', '0', '6\\n']), ('GP', ['F', '15', 'U', 'GT3', 'T', '1', '2', 'at_home', 'other', 'course', 'mother', '1', '2', '0', 'no', 'yes', 'yes', 'no', 'no', 'yes', 'yes', '4', '3', '2', '5', '2', '10\\n']), ('GP', ['M', '16', 'U', 'GT3', 'T', '4', '4', 'teacher', 'teacher', 'course', 'mother', '1', '1', '0', 'no', 'yes', 'no', 'no', 'yes', 'no', 'yes', '3', '3', '2', '5', '0', '7\\n']), ('GP', ['M', '15', 'U', 'LE3', 'A', '2', '1', 'services', 'other', 'course', 'mother', '4', '1', '3', 'no', 'no', 'no', 'no', 'yes', 'yes', 'yes', '4', '5', '5', '5', '0', '8\\n']), ('GP', ['M', '18', 'U', 'LE3', 'T', '1', '1', 'other', 'other', 'course', 'mother', '1', '1', '3', 'no', 'no', 'no', 'no', 'yes', 'no', 'yes', '2', '3', '5', '4', '0', '6\\n']), ('GP', ['M', '16', 'U', 'LE3', 'T', '2', '1', 'at_home', 'other', 'course', 'mother', '1', '1', '1', 'no', 'no', 'no', 'yes', 'yes', 'yes', 'no', '4', '4', '4', '5', '6', '12\\n']), ('GP', ['F', '15', 'R', 'GT3', 'T', '3', '3', 'services', 'services', 'reputation', 'other', '2', '3', '2', 'no', 'yes', 'yes', 'yes', 'yes', 'yes', 'yes', '4', '2', '1', '3', '8', '10\\n']), ('GP', ['M', '19', 'U', 'GT3', 'T', '3', '2', 'services', 'at_home', 'home', 'mother', '1', '1', '3', 'no', 'yes', 'no', 'no', 'yes', 'no', 'yes', '4', '5', '4', '4', '0', '5\\n']), ('GP', ['F', '17', 'U', 'GT3', 'T', '4', '4', 'other', 'teacher', 'course', 'mother', '1', '1', '0', 'yes', 'yes', 'no', 'no', 'yes', 'yes', 'no', '4', '2', '1', '4', '0', '11\\n']), ('GP', ['M', '15', 'R', 'GT3', 'T', '2', '3', 'at_home', 'services', 'course', 'mother', '1', '2', '0', 'yes', 'no', 'yes', 'yes', 'yes', 'yes', 'no', '4', '4', '4', '1', '2', '11\\n']), ('GP', ['M', '17', 'R', 'LE3', 'T', '1', '2', 'other', 'other', 'reputation', 'mother', '1', '1', '0', 'no', 'no', 'no', 'no', 'yes', 'yes', 'no', '2', '2', '2', '5', '8', '16\\n']), ('GP', ['F', '18', 'R', 'GT3', 'T', '1', '1', 'at_home', 'other', 'course', 'mother', '3', '1', '3', 'no', 'yes', 'no', 'yes', 'no', 'yes', 'no', '5', '2', '5', '4', '6', '9\\n']), ('GP', ['M', '16', 'R', 'GT3', 'T', '2', '2', 'at_home', 'other', 'course', 'mother', '3', '1', '0', 'no', 'no', 'no', 'no', 'no', 'yes', 'no', '4', '2', '2', '3', '2', '17\\n']), ('GP', ['M', '16', 'U', 'GT3', 'T', '3', '3', 'other', 'services', 'course', 'father', '1', '2', '1', 'no', 'yes', 'yes', 'no', 'yes', 'yes', 'yes', '4', '5', '5', '5', '4', '10\\n']), ('GP', ['M', '17', 'R', 'LE3', 'T', '2', '1', 'at_home', 'other', 'course', 'mother', '2', '1', '2', 'no', 'no', 'no', 'yes', 'yes', 'no', 'yes', '3', '3', '2', '5', '0', '7\\n']), ('GP', ['M', '15', 'R', 'GT3', 'T', '3', '2', 'other', 'other', 'course', 'mother', '2', '2', '2', 'yes', 'yes', 'no', 'no', 'yes', 'yes', 'yes', '4', '4', '4', '3', '6', '5\\n']), ('GP', ['M', '16', 'U', 'LE3', 'T', '1', '2', 'other', 'other', 'course', 'mother', '2', '1', '1', 'no', 'no', 'no', 'yes', 'yes', 'yes', 'no', '4', '4', '4', '5', '0', '7\\n']), ('GP', ['M', '17', 'U', 'GT3', 'T', '1', '3', 'at_home', 'services', 'course', 'father', '1', '1', '0', 'no', 'no', 'no', 'no', 'yes', 'no', 'yes', '5', '3', '3', '2', '2', '10\\n']), ('GP', ['M', '17', 'R', 'LE3', 'T', '1', '1', 'other', 'services', 'course', 'mother', '4', '2', '3', 'no', 'no', 'no', 'yes', 'yes', 'no', 'no', '5', '3', '5', '5', '0', '5\\n']), ('GP', ['M', '16', 'U', 'GT3', 'T', '3', '2', 'services', 'services', 'course', 'mother', '2', '1', '1', 'no', 'yes', 'no', 'yes', 'no', 'no', 'no', '4', '5', '2', '2', '16', '12\\n']), ('GP', ['M', '16', 'U', 'GT3', 'T', '2', '2', 'other', 'other', 'course', 'father', '1', '2', '0', 'no', 'no', 'no', 'no', 'yes', 'no', 'yes', '4', '3', '5', '4', '4', '10\\n']), ('GP', ['F', '16', 'U', 'GT3', 'T', '4', '2', 'health', 'services', 'home', 'father', '1', '2', '0', 'no', 'no', 'yes', 'no', 'yes', 'yes', 'yes', '4', '2', '3', '3', '0', '14\\n']), ('GP', ['F', '16', 'U', 'GT3', 'T', '2', '2', 'other', 'other', 'home', 'mother', '1', '2', '0', 'no', 'yes', 'yes', 'no', 'no', 'yes', 'yes', '5', '1', '5', '4', '0', '6\\n']), ('GP', ['F', '16', 'U', 'GT3', 'T', '4', '4', 'health', 'health', 'reputation', 'mother', '1', '2', '0', 'no', 'yes', 'yes', 'no', 'yes', 'yes', 'yes', '4', '4', '2', '3', '0', '14\\n']), ('GP', ['M', '16', 'U', 'GT3', 'T', '3', '4', 'other', 'other', 'course', 'father', '3', '1', '2', 'no', 'yes', 'no', 'yes', 'no', 'yes', 'yes', '3', '4', '5', '2', '0', '6\\n']), ('GP', ['M', '16', 'U', 'GT3', 'T', '1', '0', 'other', 'other', 'reputation', 'mother', '2', '2', '0', 'no', 'yes', 'yes', 'yes', 'yes', 'yes', 'yes', '4', '3', '2', '3', '2', '13\\n']), ('GP', ['M', '17', 'U', 'LE3', 'T', '4', '4', 'teacher', 'other', 'reputation', 'mother', '1', '2', '0', 'no', 'yes', 'yes', 'yes', 'yes', 'yes', 'yes', '4', '4', '4', '5', '0', '13\\n']), ('GP', ['F', '16', 'U', 'GT3', 'T', '1', '3', 'at_home', 'services', 'home', 'mother', '1', '2', '3', 'no', 'no', 'no', 'yes', 'no', 'yes', 'yes', '4', '3', '5', '3', '0', '8\\n']), ('GP', ['F', '16', 'U', 'LE3', 'T', '3', '3', 'other', 'other', 'reputation', 'mother', '2', '2', '0', 'no', 'yes', 'yes', 'yes', 'yes', 'yes', 'yes', '4', '4', '5', '4', '4', '10\\n']), ('GP', ['M', '17', 'U', 'LE3', 'T', '4', '3', 'teacher', 'other', 'course', 'mother', '2', '2', '0', 'no', 'no', 'yes', 'yes', 'yes', 'yes', 'yes', '4', '4', '4', '4', '4', '10\\n']), ('GP', ['F', '16', 'U', 'GT3', 'T', '2', '2', 'services', 'other', 'reputation', 'mother', '2', '2', '0', 'no', 'no', 'yes', 'yes', 'no', 'yes', 'yes', '3', '4', '4', '5', '2', '13\\n']), ('GP', ['M', '17', 'U', 'GT3', 'T', '3', '3', 'other', 'other', 'reputation', 'father', '1', '2', '0', 'no', 'no', 'no', 'yes', 'no', 'yes', 'yes', '4', '3', '4', '4', '4', '6\\n']), ('GP', ['M', '16', 'R', 'GT3', 'T', '4', '2', 'teacher', 'services', 'other', 'mother', '1', '1', '0', 'no', 'yes', 'no', 'yes', 'yes', 'yes', 'yes', '4', '3', '3', '3', '10', '10\\n']), ('GP', ['M', '17', 'U', 'GT3', 'T', '4', '3', 'other', 'other', 'course', 'mother', '1', '2', '0', 'no', 'yes', 'no', 'yes', 'yes', 'yes', 'yes', '5', '2', '3', '2', '4', '10\\n']), ('GP', ['M', '16', 'U', 'GT3', 'T', '4', '3', 'teacher', 'other', 'home', 'mother', '1', '2', '0', 'no', 'yes', 'yes', 'yes', 'yes', 'yes', 'yes', '3', '4', '3', '3', '10', '9\\n']), ('GP', ['M', '16', 'U', 'GT3', 'T', '3', '3', 'services', 'other', 'home', 'mother', '1', '2', '0', 'no', 'no', 'yes', 'yes', 'yes', 'yes', 'yes', '4', '2', '3', '3', '2', '12\\n']), ('GP', ['F', '17', 'U', 'GT3', 'T', '2', '4', 'services', 'services', 'reputation', 'father', '1', '2', '0', 'no', 'yes', 'no', 'yes', 'yes', 'yes', 'no', '5', '4', '2', '5', '0', '16\\n']), ('GP', ['F', '17', 'U', 'LE3', 'T', '3', '3', 'other', 'other', 'reputation', 'mother', '1', '2', '0', 'no', 'yes', 'no', 'yes', 'yes', 'yes', 'yes', '5', '3', '3', '1', '56', '9\\n']), ('GP', ['F', '16', 'U', 'GT3', 'T', '3', '2', 'other', 'other', 'reputation', 'mother', '1', '2', '0', 'no', 'yes', 'yes', 'no', 'yes', 'yes', 'yes', '1', '2', '2', '1', '14', '12\\n']), ('GP', ['M', '17', 'U', 'GT3', 'T', '3', '3', 'services', 'services', 'other', 'mother', '1', '2', '0', 'no', 'yes', 'no', 'yes', 'yes', 'yes', 'yes', '4', '3', '4', '4', '12', '12\\n']), ('GP', ['M', '16', 'U', 'GT3', 'T', '1', '2', 'services', 'services', 'other', 'mother', '1', '1', '0', 'no', 'yes', 'yes', 'yes', 'yes', 'yes', 'yes', '3', '3', '3', '3', '2', '11\\n']), ('GP', ['M', '16', 'U', 'LE3', 'T', '2', '1', 'other', 'other', 'course', 'mother', '1', '2', '0', 'no', 'no', 'yes', 'yes', 'yes', 'yes', 'yes', '4', '2', '3', '5', '0', '15\\n']), ('GP', ['F', '17', 'U', 'GT3', 'A', '3', '3', 'health', 'other', 'reputation', 'mother', '1', '2', '0', 'no', 'yes', 'no', 'no', 'no', 'yes', 'yes', '3', '3', '3', '3', '6', '8\\n']), ('GP', ['M', '17', 'R', 'GT3', 'T', '1', '2', 'at_home', 'other', 'home', 'mother', '1', '2', '0', 'no', 'no', 'no', 'no', 'yes', 'yes', 'no', '3', '1', '3', '3', '4', '8\\n']), ('GP', ['F', '16', 'U', 'GT3', 'T', '2', '3', 'services', 'services', 'course', 'mother', '1', '2', '0', 'no', 'no', 'no', 'no', 'yes', 'yes', 'yes', '4', '3', '3', '2', '10', '11\\n']), ('GP', ['F', '17', 'U', 'GT3', 'T', '1', '1', 'at_home', 'services', 'course', 'mother', '1', '2', '0', 'no', 'no', 'no', 'yes', 'yes', 'yes', 'yes', '5', '3', '3', '3', '0', '8\\n']), ('GP', ['M', '17', 'U', 'GT3', 'T', '1', '2', 'at_home', 'services', 'other', 'other', '2', '2', '0', 'no', 'no', 'yes', 'yes', 'no', 'yes', 'yes', '4', '4', '4', '5', '12', '7\\n']), ('GP', ['M', '16', 'R', 'GT3', 'T', '3', '3', 'services', 'services', 'reputation', 'mother', '1', '1', '0', 'no', 'yes', 'no', 'yes', 'yes', 'yes', 'yes', '4', '3', '2', '5', '8', '8\\n']), ('GP', ['M', '16', 'U', 'GT3', 'T', '2', '3', 'other', 'other', 'home', 'father', '2', '1', '0', 'no', 'no', 'no', 'no', 'yes', 'yes', 'yes', '5', '3', '3', '3', '0', '13\\n']), ('GP', ['F', '17', 'U', 'LE3', 'T', '2', '4', 'services', 'services', 'course', 'father', '1', '2', '0', 'no', 'no', 'no', 'yes', 'yes', 'yes', 'yes', '4', '3', '2', '5', '0', '14\\n']), ('GP', ['M', '17', 'U', 'GT3', 'T', '4', '4', 'services', 'teacher', 'home', 'mother', '1', '1', '0', 'no', 'no', 'no', 'no', 'yes', 'yes', 'yes', '5', '2', '3', '5', '4', '17\\n']), ('GP', ['M', '16', 'R', 'LE3', 'T', '3', '3', 'teacher', 'other', 'home', 'father', '3', '1', '0', 'no', 'yes', 'yes', 'yes', 'yes', 'yes', 'yes', '3', '3', '4', '3', '8', '9\\n']), ('GP', ['F', '17', 'U', 'GT3', 'T', '4', '4', 'services', 'teacher', 'home', 'mother', '2', '1', '1', 'no', 'yes', 'no', 'no', 'yes', 'yes', 'yes', '4', '2', '4', '2', '24', '18\\n']), ('GP', ['F', '16', 'U', 'LE3', 'T', '4', '4', 'teacher', 'teacher', 'reputation', 'mother', '1', '2', '0', 'no', 'yes', 'yes', 'no', 'yes', 'yes', 'yes', '4', '5', '2', '3', '0', '9\\n']), ('GP', ['F', '16', 'U', 'GT3', 'T', '4', '3', 'health', 'other', 'home', 'mother', '1', '2', '0', 'no', 'yes', 'no', 'yes', 'yes', 'yes', 'yes', '4', '3', '5', '2', '2', '16\\n']), ('GP', ['F', '16', 'U', 'GT3', 'T', '2', '3', 'other', 'other', 'reputation', 'mother', '1', '2', '0', 'yes', 'yes', 'yes', 'yes', 'yes', 'yes', 'no', '4', '4', '3', '4', '6', '8\\n']), ('GP', ['F', '17', 'U', 'GT3', 'T', '1', '1', 'other', 'other', 'course', 'mother', '1', '2', '0', 'no', 'yes', 'yes', 'no', 'no', 'yes', 'no', '4', '4', '4', '1', '4', '9\\n']), ('GP', ['F', '17', 'R', 'GT3', 'T', '2', '2', 'other', 'other', 'reputation', 'mother', '1', '1', '0', 'no', 'yes', 'no', 'no', 'yes', 'yes', 'yes', '5', '3', '2', '3', '18', '7\\n']), ('GP', ['F', '16', 'R', 'GT3', 'T', '2', '2', 'services', 'services', 'reputation', 'mother', '2', '4', '0', 'no', 'yes', 'yes', 'yes', 'no', 'yes', 'yes', '5', '3', '5', '5', '6', '10\\n']), ('GP', ['F', '17', 'U', 'GT3', 'T', '3', '4', 'at_home', 'services', 'home', 'mother', '1', '3', '1', 'no', 'yes', 'yes', 'no', 'yes', 'yes', 'yes', '4', '4', '3', '5', '28', '10\\n']), ('GP', ['F', '16', 'U', 'GT3', 'A', '3', '1', 'services', 'other', 'course', 'mother', '1', '2', '3', 'no', 'yes', 'yes', 'no', 'yes', 'yes', 'yes', '2', '3', '3', '4', '5', '7\\n']), ('GP', ['F', '16', 'U', 'GT3', 'T', '4', '3', 'teacher', 'other', 'other', 'mother', '1', '2', '0', 'no', 'no', 'yes', 'yes', 'yes', 'yes', 'yes', '1', '3', '2', '1', '10', '11\\n']), ('GP', ['F', '16', 'U', 'GT3', 'T', '1', '1', 'at_home', 'other', 'home', 'mother', '2', '1', '0', 'no', 'yes', 'yes', 'no', 'yes', 'yes', 'no', '4', '3', '2', '5', '6', '9\\n']), ('GP', ['F', '17', 'R', 'GT3', 'T', '4', '3', 'teacher', 'other', 'reputation', 'mother', '2', '3', '0', 'no', 'yes', 'yes', 'yes', 'yes', 'yes', 'yes', '4', '4', '2', '4', '6', '7\\n']), ('GP', ['F', '19', 'U', 'GT3', 'T', '3', '3', 'other', 'other', 'reputation', 'other', '1', '4', '0', 'no', 'yes', 'yes', 'yes', 'yes', 'yes', 'yes', '4', '3', '3', '3', '10', '8\\n']), ('GP', ['M', '17', 'U', 'LE3', 'T', '4', '4', 'services', 'other', 'home', 'mother', '1', '2', '0', 'no', 'yes', 'yes', 'no', 'yes', 'yes', 'yes', '5', '3', '5', '3', '13', '12\\n']), ('GP', ['F', '16', 'U', 'GT3', 'A', '2', '2', 'other', 'other', 'reputation', 'mother', '1', '2', '0', 'yes', 'yes', 'yes', 'no', 'yes', 'yes', 'yes', '3', '3', '4', '4', '0', '12\\n']), ('GP', ['M', '18', 'U', 'GT3', 'T', '2', '2', 'services', 'other', 'home', 'mother', '1', '2', '1', 'no', 'yes', 'yes', 'yes', 'yes', 'yes', 'yes', '4', '4', '4', '5', '15', '6\\n']), ('GP', ['F', '17', 'R', 'LE3', 'T', '4', '4', 'services', 'other', 'other', 'mother', '1', '1', '0', 'no', 'yes', 'yes', 'no', 'yes', 'yes', 'no', '5', '2', '1', '3', '12', '8\\n']), ('GP', ['F', '17', 'U', 'LE3', 'T', '3', '2', 'other', 'other', 'reputation', 'mother', '2', '2', '0', 'no', 'no', 'yes', 'no', 'yes', 'yes', 'yes', '4', '4', '4', '1', '2', '14\\n']), ('GP', ['F', '17', 'U', 'GT3', 'T', '4', '3', 'other', 'other', 'reputation', 'mother', '1', '2', '2', 'no', 'no', 'yes', 'no', 'yes', 'yes', 'yes', '3', '4', '5', '1', '22', '6\\n']), ('GP', ['M', '18', 'U', 'LE3', 'T', '3', '3', 'services', 'health', 'home', 'father', '1', '2', '1', 'no', 'yes', 'yes', 'no', 'yes', 'yes', 'yes', '3', '2', '4', '4', '13', '6\\n']), ('GP', ['F', '17', 'U', 'GT3', 'T', '2', '3', 'at_home', 'other', 'home', 'father', '2', '1', '0', 'no', 'yes', 'yes', 'no', 'yes', 'yes', 'no', '3', '3', '3', '3', '3', '7\\n']), ('GP', ['F', '17', 'U', 'GT3', 'T', '2', '2', 'at_home', 'at_home', 'course', 'mother', '1', '3', '0', 'no', 'yes', 'yes', 'yes', 'yes', 'yes', 'yes', '4', '3', '3', '4', '4', '9\\n']), ('GP', ['F', '17', 'R', 'GT3', 'T', '2', '1', 'at_home', 'services', 'reputation', 'mother', '2', '2', '0', 'no', 'yes', 'no', 'yes', 'yes', 'yes', 'yes', '4', '2', '5', '5', '2', '6\\n']), ('GP', ['F', '17', 'U', 'GT3', 'T', '1', '1', 'at_home', 'other', 'reputation', 'mother', '1', '3', '1', 'no', 'yes', 'no', 'yes', 'yes', 'yes', 'no', '4', '3', '4', '5', '0', '6\\n']), ('GP', ['F', '16', 'U', 'GT3', 'T', '2', '3', 'services', 'teacher', 'other', 'mother', '1', '2', '0', 'yes', 'no', 'no', 'no', 'yes', 'yes', 'yes', '2', '3', '1', '3', '2', '16\\n']), ('GP', ['M', '18', 'U', 'GT3', 'T', '2', '2', 'other', 'other', 'home', 'mother', '2', '2', '0', 'no', 'yes', 'yes', 'no', 'yes', 'yes', 'yes', '3', '3', '3', '4', '0', '12\\n']), ('GP', ['F', '16', 'U', 'GT3', 'T', '4', '4', 'teacher', 'services', 'home', 'mother', '1', '3', '0', 'no', 'yes', 'no', 'yes', 'no', 'yes', 'yes', '5', '3', '2', '5', '0', '13\\n']), ('GP', ['F', '18', 'R', 'GT3', 'T', '3', '1', 'other', 'other', 'reputation', 'mother', '1', '2', '1', 'no', 'no', 'no', 'yes', 'yes', 'yes', 'yes', '5', '3', '3', '4', '16', '9\\n']), ('GP', ['F', '17', 'U', 'GT3', 'T', '3', '2', 'other', 'other', 'course', 'mother', '1', '2', '0', 'no', 'no', 'no', 'yes', 'no', 'yes', 'yes', '5', '3', '4', '3', '10', '16\\n']), ('GP', ['M', '17', 'U', 'LE3', 'T', '2', '3', 'services', 'services', 'reputation', 'father', '1', '2', '0', 'no', 'yes', 'yes', 'no', 'no', 'yes', 'yes', '5', '3', '3', '3', '2', '12\\n']), ('GP', ['M', '18', 'U', 'LE3', 'T', '2', '1', 'at_home', 'other', 'course', 'mother', '4', '2', '0', 'yes', 'yes', 'yes', 'yes', 'yes', 'yes', 'yes', '4', '3', '2', '3', '14', '10\\n']), ('GP', ['F', '17', 'U', 'GT3', 'A', '2', '1', 'other', 'other', 'course', 'mother', '2', '3', '0', 'no', 'no', 'no', 'yes', 'yes', 'yes', 'yes', '3', '2', '3', '3', '10', '12\\n']), ('GP', ['F', '17', 'U', 'LE3', 'T', '4', '3', 'health', 'other', 'reputation', 'father', '1', '2', '0', 'no', 'no', 'no', 'yes', 'yes', 'yes', 'yes', '3', '2', '3', '3', '14', '13\\n']), ('GP', ['M', '17', 'R', 'GT3', 'T', '2', '2', 'other', 'other', 'course', 'father', '2', '2', '0', 'no', 'yes', 'yes', 'yes', 'yes', 'yes', 'yes', '4', '5', '2', '1', '4', '11\\n']), ('GP', ['M', '17', 'U', 'GT3', 'T', '4', '4', 'teacher', 'teacher', 'reputation', 'mother', '1', '2', '0', 'yes', 'yes', 'no', 'yes', 'yes', 'yes', 'yes', '4', '5', '5', '2', '14', '11\\n']), ('GP', ['M', '16', 'U', 'GT3', 'T', '4', '4', 'health', 'other', 'reputation', 'father', '1', '2', '0', 'no', 'yes', 'yes', 'yes', 'yes', 'yes', 'yes', '4', '2', '4', '1', '2', '14\\n']), ('GP', ['M', '16', 'U', 'LE3', 'T', '1', '1', 'other', 'other', 'home', 'mother', '2', '2', '0', 'no', 'yes', 'yes', 'no', 'yes', 'yes', 'yes', '3', '4', '2', '5', '18', '9\\n']), ('GP', ['M', '16', 'U', 'GT3', 'T', '3', '2', 'at_home', 'other', 'reputation', 'mother', '2', '3', '0', 'no', 'no', 'no', 'yes', 'yes', 'yes', 'yes', '5', '3', '3', '2', '10', '11\\n']), ('GP', ['M', '17', 'U', 'LE3', 'T', '2', '2', 'other', 'other', 'home', 'father', '1', '2', '0', 'no', 'no', 'yes', 'yes', 'no', 'yes', 'yes', '4', '4', '2', '4', '4', '14\\n']), ('GP', ['F', '16', 'U', 'GT3', 'T', '2', '1', 'other', 'other', 'home', 'mother', '1', '1', '0', 'no', 'no', 'no', 'no', 'yes', 'yes', 'yes', '4', '5', '2', '5', '20', '13\\n']), ('GP', ['F', '17', 'R', 'GT3', 'T', '2', '1', 'at_home', 'services', 'course', 'mother', '3', '2', '0', 'no', 'no', 'no', 'yes', 'yes', 'yes', 'no', '2', '1', '1', '3', '2', '13\\n']), ('GP', ['M', '18', 'U', 'GT3', 'T', '2', '2', 'other', 'services', 'reputation', 'father', '1', '2', '1', 'no', 'no', 'no', 'no', 'yes', 'no', 'yes', '5', '5', '4', '2', '0', '7\\n']), ('GP', ['M', '17', 'U', 'LE3', 'T', '4', '3', 'health', 'other', 'course', 'mother', '2', '2', '0', 'no', 'no', 'no', 'yes', 'yes', 'yes', 'yes', '2', '5', '5', '5', '14', '12\\n']), ('GP', ['M', '17', 'R', 'LE3', 'A', '4', '4', 'teacher', 'other', 'course', 'mother', '2', '2', '0', 'no', 'yes', 'yes', 'no', 'yes', 'yes', 'yes', '3', '3', '3', '4', '2', '10\\n']), ('GP', ['M', '16', 'U', 'LE3', 'T', '4', '3', 'teacher', 'other', 'course', 'mother', '1', '1', '0', 'no', 'no', 'no', 'yes', 'no', 'yes', 'yes', '5', '4', '5', '3', '0', '6\\n']), ('GP', ['M', '16', 'U', 'GT3', 'T', '4', '4', 'services', 'services', 'course', 'mother', '1', '1', '0', 'no', 'no', 'no', 'yes', 'yes', 'yes', 'yes', '5', '3', '2', '5', '0', '13\\n']), ('GP', ['F', '18', 'U', 'GT3', 'T', '2', '1', 'other', 'other', 'course', 'other', '2', '3', '0', 'no', 'yes', 'yes', 'no', 'no', 'yes', 'yes', '4', '4', '4', '3', '0', '7\\n']), ('GP', ['M', '16', 'U', 'GT3', 'T', '2', '1', 'other', 'other', 'course', 'mother', '3', '1', '0', 'no', 'no', 'no', 'no', 'yes', 'yes', 'yes', '4', '3', '3', '4', '6', '18\\n']), ('GP', ['M', '17', 'U', 'GT3', 'T', '2', '3', 'other', 'other', 'course', 'father', '2', '1', '0', 'no', 'no', 'no', 'no', 'yes', 'yes', 'yes', '5', '2', '2', '2', '4', '12\\n']), ('GP', ['M', '22', 'U', 'GT3', 'T', '3', '1', 'services', 'services', 'other', 'mother', '1', '1', '3', 'no', 'no', 'no', 'no', 'no', 'no', 'yes', '5', '4', '5', '1', '16', '6\\n']), ('GP', ['M', '18', 'R', 'LE3', 'T', '3', '3', 'other', 'services', 'course', 'mother', '1', '2', '1', 'no', 'yes', 'no', 'no', 'yes', 'yes', 'yes', '4', '3', '3', '5', '8', '3\\n']), ('GP', ['M', '16', 'U', 'GT3', 'T', '0', '2', 'other', 'other', 'other', 'mother', '1', '1', '0', 'no', 'no', 'yes', 'no', 'no', 'yes', 'yes', '4', '3', '2', '5', '0', '13\\n']), ('GP', ['M', '18', 'U', 'GT3', 'T', '3', '2', 'services', 'other', 'course', 'mother', '2', '1', '1', 'no', 'no', 'no', 'no', 'yes', 'no', 'yes', '4', '4', '5', '5', '0', '6\\n']), ('GP', ['M', '16', 'U', 'GT3', 'T', '3', '3', 'at_home', 'other', 'reputation', 'other', '3', '2', '0', 'yes', 'yes', 'no', 'no', 'no', 'yes', 'yes', '5', '3', '3', '2', '6', '7\\n']), ('GP', ['M', '18', 'U', 'GT3', 'T', '2', '1', 'services', 'services', 'other', 'mother', '1', '1', '1', 'no', 'no', 'no', 'no', 'no', 'no', 'yes', '3', '2', '5', '5', '4', '6\\n']), ('GP', ['M', '16', 'R', 'GT3', 'T', '2', '1', 'other', 'other', 'course', 'mother', '2', '1', '0', 'no', 'no', 'no', 'yes', 'no', 'yes', 'no', '3', '3', '2', '3', '0', '8\\n']), ('GP', ['M', '17', 'R', 'GT3', 'T', '2', '1', 'other', 'other', 'course', 'mother', '1', '1', '0', 'no', 'no', 'no', 'no', 'no', 'yes', 'yes', '4', '4', '2', '5', '0', '8\\n']), ('GP', ['M', '17', 'U', 'LE3', 'T', '1', '1', 'health', 'other', 'course', 'mother', '2', '1', '1', 'no', 'yes', 'no', 'yes', 'yes', 'yes', 'yes', '4', '4', '4', '5', '2', '7\\n']), ('GP', ['F', '17', 'U', 'LE3', 'T', '4', '2', 'teacher', 'services', 'reputation', 'mother', '1', '4', '0', 'no', 'yes', 'yes', 'yes', 'yes', 'yes', 'yes', '4', '2', '3', '4', '6', '14\\n']), ('GP', ['M', '19', 'U', 'LE3', 'A', '4', '3', 'services', 'at_home', 'reputation', 'mother', '1', '2', '0', 'no', 'yes', 'no', 'no', 'yes', 'yes', 'yes', '4', '3', '1', '1', '12', '11\\n']), ('GP', ['M', '18', 'U', 'GT3', 'T', '2', '1', 'other', 'other', 'home', 'mother', '1', '2', '0', 'no', 'no', 'no', 'yes', 'yes', 'yes', 'yes', '5', '2', '4', '4', '8', '15\\n']), ('GP', ['F', '17', 'U', 'LE3', 'T', '2', '2', 'services', 'services', 'course', 'father', '1', '4', '0', 'no', 'no', 'yes', 'yes', 'yes', 'yes', 'yes', '3', '4', '1', '2', '0', '10\\n']), ('GP', ['F', '18', 'U', 'GT3', 'T', '4', '3', 'services', 'other', 'home', 'father', '1', '2', '0', 'no', 'yes', 'yes', 'no', 'yes', 'yes', 'yes', '3', '1', '2', '2', '21', '17\\n']), ('GP', ['M', '18', 'U', 'GT3', 'T', '4', '3', 'teacher', 'other', 'course', 'mother', '1', '2', '0', 'no', 'yes', 'yes', 'no', 'no', 'yes', 'yes', '4', '3', '2', '3', '2', '8\\n']), ('GP', ['M', '18', 'R', 'GT3', 'T', '3', '2', 'other', 'other', 'course', 'mother', '1', '3', '0', 'no', 'no', 'no', 'yes', 'no', 'yes', 'no', '5', '3', '2', '3', '1', '13\\n']), ('GP', ['F', '17', 'U', 'GT3', 'T', '3', '3', 'other', 'other', 'home', 'mother', '1', '3', '0', 'no', 'no', 'no', 'yes', 'no', 'yes', 'no', '3', '2', '3', '4', '4', '10\\n']), ('GP', ['F', '18', 'U', 'GT3', 'T', '2', '2', 'at_home', 'services', 'home', 'mother', '1', '3', '0', 'no', 'yes', 'yes', 'yes', 'yes', 'yes', 'yes', '4', '3', '3', '3', '0', '9\\n']), ('GP', ['M', '18', 'R', 'LE3', 'A', '3', '4', 'other', 'other', 'reputation', 'mother', '2', '2', '0', 'no', 'yes', 'yes', 'yes', 'yes', 'yes', 'yes', '4', '2', '5', '1', '13', '17\\n']), ('GP', ['M', '17', 'U', 'GT3', 'T', '3', '1', 'services', 'other', 'other', 'mother', '1', '2', '0', 'no', 'no', 'yes', 'yes', 'yes', 'yes', 'yes', '5', '4', '4', '5', '2', '9\\n']), ('GP', ['F', '18', 'R', 'GT3', 'T', '4', '4', 'teacher', 'other', 'reputation', 'mother', '2', '2', '0', 'no', 'no', 'yes', 'yes', 'yes', 'yes', 'yes', '4', '3', '4', '4', '8', '12\\n']), ('GP', ['M', '18', 'U', 'GT3', 'T', '4', '2', 'health', 'other', 'reputation', 'father', '1', '2', '0', 'no', 'yes', 'yes', 'yes', 'yes', 'yes', 'yes', '5', '4', '5', '5', '10', '10\\n']), ('GP', ['F', '18', 'R', 'GT3', 'T', '2', '1', 'other', 'other', 'reputation', 'mother', '2', '2', '0', 'no', 'yes', 'no', 'no', 'yes', 'no', 'yes', '4', '3', '5', '3', '0', '6\\n']), ('GP', ['F', '19', 'U', 'GT3', 'T', '3', '3', 'other', 'services', 'home', 'other', '1', '2', '2', 'no', 'yes', 'yes', 'yes', 'yes', 'yes', 'yes', '4', '3', '5', '5', '15', '9\\n']), ('GP', ['F', '18', 'U', 'GT3', 'T', '2', '3', 'other', 'services', 'reputation', 'father', '1', '4', '0', 'no', 'yes', 'yes', 'yes', 'yes', 'yes', 'yes', '4', '5', '5', '2', '4', '15\\n']), ('GP', ['F', '18', 'U', 'LE3', 'T', '1', '1', 'other', 'other', 'home', 'mother', '2', '2', '0', 'no', 'yes', 'yes', 'no', 'no', 'yes', 'no', '4', '4', '3', '3', '2', '11\\n']), ('GP', ['M', '17', 'R', 'GT3', 'T', '1', '2', 'at_home', 'at_home', 'home', 'mother', '1', '2', '0', 'no', 'yes', 'yes', 'yes', 'no', 'yes', 'no', '3', '5', '2', '1', '2', '15\\n']), ('GP', ['F', '17', 'U', 'GT3', 'T', '2', '4', 'at_home', 'health', 'reputation', 'mother', '2', '2', '0', 'no', 'yes', 'yes', 'no', 'yes', 'yes', 'yes', '4', '3', '3', '1', '2', '10\\n']), ('GP', ['F', '17', 'U', 'LE3', 'T', '2', '2', 'services', 'other', 'course', 'mother', '2', '2', '0', 'yes', 'yes', 'yes', 'no', 'yes', 'yes', 'yes', '4', '4', '4', '5', '6', '12\\n']), ('GP', ['F', '18', 'R', 'GT3', 'A', '3', '2', 'other', 'services', 'home', 'mother', '2', '2', '0', 'no', 'no', 'no', 'no', 'no', 'no', 'yes', '4', '1', '1', '5', '75', '10\\n']), ('GP', ['M', '18', 'U', 'GT3', 'T', '4', '4', 'teacher', 'services', 'home', 'mother', '2', '1', '0', 'no', 'no', 'yes', 'yes', 'yes', 'yes', 'yes', '3', '2', '4', '3', '22', '9\\n']), ('GP', ['F', '18', 'U', 'GT3', 'T', '4', '4', 'health', 'health', 'reputation', 'father', '1', '2', '1', 'yes', 'yes', 'no', 'yes', 'yes', 'yes', 'yes', '2', '4', '4', '4', '15', '9\\n']), ('GP', ['M', '18', 'U', 'LE3', 'T', '4', '3', 'teacher', 'services', 'course', 'mother', '2', '1', '0', 'no', 'no', 'yes', 'yes', 'yes', 'yes', 'yes', '4', '2', '3', '1', '8', '10\\n']), ('GP', ['M', '17', 'U', 'LE3', 'A', '4', '1', 'services', 'other', 'home', 'mother', '2', '1', '0', 'no', 'no', 'yes', 'yes', 'yes', 'yes', 'yes', '4', '5', '4', '5', '30', '8\\n']), ('GP', ['M', '17', 'U', 'LE3', 'A', '3', '2', 'teacher', 'services', 'home', 'mother', '1', '1', '1', 'no', 'no', 'no', 'no', 'yes', 'yes', 'yes', '4', '4', '4', '3', '19', '11\\n']), ('GP', ['F', '18', 'R', 'LE3', 'T', '1', '1', 'at_home', 'other', 'reputation', 'mother', '2', '4', '0', 'no', 'yes', 'yes', 'yes', 'yes', 'yes', 'no', '5', '2', '2', '3', '1', '12\\n']), ('GP', ['F', '18', 'U', 'GT3', 'T', '1', '1', 'other', 'other', 'home', 'mother', '2', '2', '0', 'yes', 'no', 'no', 'yes', 'yes', 'yes', 'yes', '5', '4', '4', '4', '4', '8\\n']), ('GP', ['F', '17', 'U', 'GT3', 'T', '2', '2', 'other', 'other', 'course', 'mother', '1', '2', '0', 'no', 'yes', 'no', 'no', 'no', 'yes', 'yes', '5', '4', '5', '5', '4', '10\\n']), ('GP', ['M', '17', 'U', 'GT3', 'T', '1', '1', 'other', 'other', 'reputation', 'father', '1', '2', '0', 'no', 'no', 'yes', 'no', 'no', 'yes', 'yes', '4', '3', '3', '4', '2', '12\\n']), ('GP', ['F', '18', 'U', 'GT3', 'T', '2', '2', 'at_home', 'at_home', 'other', 'mother', '1', '3', '0', 'no', 'yes', 'yes', 'no', 'yes', 'yes', 'yes', '4', '3', '3', '2', '5', '18\\n']), ('GP', ['F', '17', 'U', 'GT3', 'T', '1', '1', 'services', 'teacher', 'reputation', 'mother', '1', '3', '0', 'no', 'yes', 'yes', 'no', 'yes', 'yes', 'yes', '4', '3', '3', '3', '6', '13\\n']), ('GP', ['M', '18', 'U', 'GT3', 'T', '2', '1', 'services', 'services', 'reputation', 'mother', '1', '3', '0', 'no', 'no', 'yes', 'yes', 'yes', 'yes', 'yes', '4', '2', '4', '2', '6', '15\\n']), ('GP', ['M', '18', 'U', 'LE3', 'A', '4', '4', 'teacher', 'teacher', 'reputation', 'mother', '1', '2', '0', 'no', 'yes', 'yes', 'yes', 'yes', 'yes', 'yes', '5', '4', '3', '2', '9', '15\\n']), ('GP', ['M', '18', 'U', 'GT3', 'T', '4', '2', 'teacher', 'other', 'home', 'mother', '1', '2', '0', 'no', 'yes', 'yes', 'yes', 'yes', 'yes', 'yes', '4', '3', '2', '5', '11', '12\\n']), ('GP', ['F', '17', 'U', 'GT3', 'T', '4', '3', 'health', 'services', 'reputation', 'mother', '1', '3', '0', 'no', 'yes', 'yes', 'no', 'yes', 'yes', 'yes', '4', '2', '2', '3', '0', '15\\n']), ('GP', ['F', '18', 'U', 'LE3', 'T', '2', '1', 'services', 'at_home', 'reputation', 'mother', '1', '2', '1', 'no', 'no', 'no', 'no', 'yes', 'yes', 'yes', '5', '4', '3', '5', '12', '12\\n']), ('GP', ['F', '17', 'R', 'LE3', 'T', '3', '1', 'services', 'other', 'reputation', 'mother', '2', '4', '0', 'no', 'yes', 'yes', 'no', 'yes', 'yes', 'no', '3', '1', '2', '3', '6', '18\\n']), ('GP', ['M', '18', 'R', 'LE3', 'T', '3', '2', 'services', 'other', 'reputation', 'mother', '2', '3', '0', 'no', 'yes', 'yes', 'yes', 'yes', 'yes', 'yes', '5', '4', '2', '4', '8', '14\\n']), ('GP', ['M', '17', 'U', 'GT3', 'T', '3', '3', 'health', 'other', 'home', 'mother', '1', '1', '0', 'no', 'yes', 'yes', 'no', 'yes', 'yes', 'yes', '4', '4', '3', '5', '4', '14\\n']), ('GP', ['F', '19', 'U', 'GT3', 'T', '4', '4', 'health', 'other', 'reputation', 'other', '2', '2', '0', 'no', 'yes', 'yes', 'yes', 'yes', 'yes', 'yes', '2', '3', '4', '2', '0', '10\\n']), ('GP', ['F', '18', 'U', 'LE3', 'T', '4', '3', 'other', 'other', 'home', 'other', '2', '2', '0', 'no', 'yes', 'yes', 'no', 'yes', 'yes', 'yes', '4', '4', '5', '2', '10', '10\\n']), ('GP', ['F', '18', 'U', 'GT3', 'T', '4', '3', 'other', 'other', 'reputation', 'father', '1', '4', '0', 'no', 'yes', 'yes', 'no', 'yes', 'yes', 'yes', '4', '3', '3', '3', '0', '14\\n']), ('GP', ['M', '18', 'U', 'LE3', 'T', '4', '4', 'teacher', 'teacher', 'home', 'mother', '1', '1', '0', 'no', 'yes', 'yes', 'no', 'yes', 'yes', 'yes', '1', '4', '2', '1', '5', '16\\n']), ('GP', ['F', '18', 'U', 'LE3', 'A', '4', '4', 'health', 'other', 'home', 'mother', '1', '2', '0', 'no', 'yes', 'no', 'no', 'yes', 'yes', 'yes', '4', '2', '4', '4', '14', '12\\n']), ('GP', ['M', '17', 'U', 'LE3', 'T', '4', '4', 'other', 'teacher', 'home', 'father', '2', '1', '0', 'no', 'no', 'yes', 'no', 'yes', 'yes', 'yes', '4', '1', '1', '5', '0', '11\\n']), ('GP', ['F', '17', 'U', 'GT3', 'T', '4', '2', 'other', 'other', 'reputation', 'mother', '2', '3', '0', 'no', 'yes', 'yes', 'no', 'yes', 'yes', 'yes', '4', '3', '3', '3', '0', '15\\n']), ('GP', ['F', '17', 'U', 'GT3', 'T', '3', '2', 'health', 'health', 'reputation', 'father', '1', '4', '0', 'no', 'yes', 'yes', 'yes', 'no', 'yes', 'yes', '5', '2', '2', '5', '0', '17\\n']), ('GP', ['M', '19', 'U', 'GT3', 'T', '3', '3', 'other', 'other', 'home', 'other', '1', '2', '1', 'no', 'yes', 'no', 'yes', 'yes', 'yes', 'yes', '4', '4', '4', '3', '20', '15\\n']), ('GP', ['F', '18', 'U', 'GT3', 'T', '2', '4', 'services', 'at_home', 'reputation', 'other', '1', '2', '1', 'no', 'yes', 'yes', 'yes', 'yes', 'yes', 'yes', '4', '4', '3', '3', '8', '14\\n']), ('GP', ['M', '20', 'U', 'GT3', 'A', '3', '2', 'services', 'other', 'course', 'other', '1', '1', '0', 'no', 'no', 'no', 'yes', 'yes', 'yes', 'no', '5', '5', '3', '5', '0', '17\\n']), ('GP', ['M', '19', 'U', 'GT3', 'T', '4', '4', 'teacher', 'services', 'reputation', 'other', '2', '1', '1', 'no', 'yes', 'yes', 'no', 'yes', 'yes', 'yes', '4', '3', '4', '4', '38', '8\\n']), ('GP', ['M', '19', 'R', 'GT3', 'T', '3', '3', 'other', 'services', 'reputation', 'father', '1', '2', '1', 'no', 'no', 'no', 'yes', 'yes', 'yes', 'no', '4', '5', '3', '5', '0', '15\\n']), ('GP', ['F', '19', 'U', 'LE3', 'T', '1', '1', 'at_home', 'other', 'reputation', 'other', '1', '2', '1', 'yes', 'yes', 'no', 'yes', 'no', 'yes', 'yes', '4', '4', '3', '3', '18', '12\\n']), ('GP', ['F', '19', 'U', 'LE3', 'T', '1', '2', 'services', 'services', 'home', 'other', '1', '2', '1', 'no', 'no', 'no', 'yes', 'no', 'yes', 'no', '4', '2', '4', '3', '0', '9\\n']), ('GP', ['F', '19', 'U', 'GT3', 'T', '2', '1', 'at_home', 'other', 'other', 'other', '3', '2', '0', 'no', 'yes', 'no', 'no', 'yes', 'no', 'yes', '3', '4', '1', '2', '20', '14\\n']), ('GP', ['M', '19', 'U', 'GT3', 'T', '1', '2', 'other', 'services', 'course', 'other', '1', '2', '1', 'no', 'no', 'no', 'no', 'no', 'yes', 'yes', '4', '5', '2', '4', '3', '13\\n']), ('GP', ['F', '19', 'U', 'LE3', 'T', '3', '2', 'services', 'other', 'reputation', 'other', '2', '2', '1', 'no', 'yes', 'yes', 'no', 'no', 'yes', 'yes', '4', '2', '2', '1', '22', '13\\n']), ('GP', ['F', '19', 'U', 'GT3', 'T', '1', '1', 'at_home', 'health', 'home', 'other', '1', '3', '2', 'no', 'no', 'no', 'no', 'no', 'yes', 'yes', '4', '1', '2', '3', '14', '15\\n']), ('GP', ['F', '19', 'R', 'GT3', 'T', '2', '3', 'other', 'other', 'reputation', 'other', '1', '3', '1', 'no', 'no', 'no', 'no', 'yes', 'yes', 'yes', '4', '1', '2', '3', '40', '13\\n']), ('GP', ['F', '18', 'U', 'GT3', 'T', '2', '1', 'services', 'other', 'course', 'mother', '2', '2', '0', 'no', 'yes', 'yes', 'yes', 'yes', 'yes', 'yes', '5', '3', '3', '1', '0', '8\\n']), ('GP', ['F', '18', 'U', 'GT3', 'T', '4', '3', 'other', 'other', 'course', 'mother', '1', '3', '0', 'no', 'yes', 'yes', 'yes', 'yes', 'yes', 'yes', '4', '3', '4', '5', '9', '9\\n']), ('GP', ['F', '17', 'R', 'GT3', 'T', '3', '4', 'at_home', 'services', 'course', 'father', '1', '3', '0', 'no', 'yes', 'yes', 'yes', 'no', 'yes', 'yes', '4', '3', '4', '5', '0', '11\\n']), ('GP', ['F', '18', 'U', 'GT3', 'T', '4', '4', 'teacher', 'other', 'course', 'mother', '1', '2', '0', 'no', 'yes', 'yes', 'no', 'yes', 'yes', 'yes', '4', '4', '4', '5', '2', '11\\n']), ('GP', ['F', '17', 'U', 'GT3', 'A', '4', '3', 'services', 'services', 'course', 'mother', '1', '2', '0', 'no', 'yes', 'yes', 'no', 'yes', 'yes', 'yes', '5', '2', '2', '5', '23', '13\\n']), ('GP', ['F', '17', 'U', 'GT3', 'T', '2', '2', 'other', 'other', 'course', 'mother', '1', '2', '0', 'no', 'yes', 'no', 'no', 'yes', 'yes', 'no', '4', '2', '2', '3', '12', '11\\n']), ('GP', ['F', '17', 'R', 'LE3', 'T', '2', '2', 'services', 'services', 'course', 'mother', '1', '3', '0', 'no', 'yes', 'yes', 'yes', 'yes', 'yes', 'yes', '3', '3', '2', '3', '3', '11\\n']), ('GP', ['F', '17', 'U', 'GT3', 'T', '3', '1', 'services', 'services', 'course', 'father', '1', '3', '0', 'no', 'yes', 'no', 'no', 'no', 'yes', 'yes', '3', '4', '3', '5', '1', '12\\n']), ('GP', ['F', '17', 'U', 'LE3', 'T', '0', '2', 'at_home', 'at_home', 'home', 'father', '2', '3', '0', 'no', 'no', 'no', 'no', 'yes', 'yes', 'yes', '3', '3', '3', '2', '0', '16\\n']), ('GP', ['M', '18', 'U', 'GT3', 'T', '4', '4', 'other', 'other', 'course', 'mother', '1', '3', '0', 'no', 'no', 'no', 'yes', 'yes', 'yes', 'yes', '4', '3', '3', '3', '3', '9\\n']), ('GP', ['M', '17', 'U', 'GT3', 'T', '3', '3', 'other', 'services', 'reputation', 'mother', '1', '1', '0', 'no', 'no', 'no', 'yes', 'no', 'yes', 'yes', '4', '3', '5', '5', '3', '14\\n']), ('GP', ['M', '17', 'R', 'GT3', 'T', '2', '2', 'services', 'other', 'course', 'mother', '4', '1', '0', 'no', 'yes', 'no', 'no', 'yes', 'yes', 'yes', '4', '4', '5', '4', '8', '11\\n']), ('GP', ['F', '17', 'U', 'GT3', 'T', '4', '4', 'teacher', 'services', 'course', 'mother', '1', '3', '0', 'no', 'yes', 'yes', 'yes', 'yes', 'yes', 'yes', '5', '4', '4', '4', '7', '10\\n']), ('GP', ['F', '17', 'U', 'GT3', 'T', '4', '4', 'teacher', 'teacher', 'course', 'mother', '2', '3', '0', 'no', 'yes', 'yes', 'no', 'no', 'yes', 'yes', '4', '3', '3', '4', '4', '14\\n']), ('GP', ['M', '18', 'U', 'LE3', 'T', '2', '2', 'other', 'other', 'course', 'mother', '1', '4', '0', 'no', 'yes', 'no', 'yes', 'yes', 'yes', 'yes', '4', '5', '5', '5', '2', '9\\n']), ('GP', ['F', '17', 'R', 'GT3', 'T', '2', '4', 'at_home', 'other', 'course', 'father', '1', '3', '0', 'no', 'yes', 'no', 'no', 'yes', 'yes', 'yes', '4', '4', '3', '5', '7', '12\\n']), ('GP', ['F', '18', 'U', 'GT3', 'T', '3', '3', 'services', 'services', 'home', 'mother', '1', '2', '0', 'no', 'no', 'no', 'yes', 'yes', 'yes', 'yes', '5', '3', '4', '4', '0', '7\\n']), ('GP', ['F', '18', 'U', 'LE3', 'T', '2', '2', 'other', 'other', 'home', 'other', '1', '2', '0', 'no', 'no', 'no', 'yes', 'no', 'yes', 'yes', '4', '3', '3', '2', '0', '8\\n']), ('GP', ['F', '18', 'R', 'GT3', 'T', '2', '2', 'at_home', 'other', 'course', 'mother', '2', '4', '0', 'no', 'no', 'no', 'yes', 'yes', 'yes', 'no', '4', '4', '4', '4', '0', '10\\n']), ('GP', ['F', '17', 'U', 'GT3', 'T', '3', '4', 'services', 'other', 'course', 'mother', '1', '3', '0', 'no', 'no', 'no', 'no', 'yes', 'yes', 'yes', '4', '4', '5', '5', '16', '16\\n']), ('GP', ['F', '19', 'R', 'GT3', 'A', '3', '1', 'services', 'at_home', 'home', 'other', '1', '3', '1', 'no', 'no', 'yes', 'no', 'yes', 'yes', 'no', '5', '4', '3', '5', '12', '14\\n']), ('GP', ['F', '17', 'U', 'GT3', 'T', '3', '2', 'other', 'other', 'home', 'mother', '1', '2', '0', 'no', 'yes', 'yes', 'no', 'yes', 'yes', 'yes', '4', '3', '2', '2', '0', '7\\n']), ('GP', ['F', '18', 'U', 'LE3', 'T', '3', '3', 'services', 'services', 'home', 'mother', '1', '4', '0', 'no', 'yes', 'no', 'no', 'yes', 'yes', 'yes', '5', '3', '3', '1', '7', '16\\n']), ('GP', ['F', '17', 'R', 'GT3', 'A', '3', '2', 'other', 'other', 'home', 'mother', '1', '2', '0', 'no', 'yes', 'yes', 'no', 'yes', 'yes', 'yes', '4', '3', '3', '2', '4', '9\\n']), ('GP', ['F', '19', 'U', 'GT3', 'T', '2', '1', 'services', 'services', 'home', 'other', '1', '3', '1', 'no', 'no', 'yes', 'yes', 'yes', 'yes', 'yes', '4', '3', '4', '3', '4', '11\\n']), ('GP', ['M', '18', 'U', 'GT3', 'T', '4', '4', 'teacher', 'services', 'home', 'father', '1', '2', '1', 'no', 'yes', 'no', 'yes', 'yes', 'yes', 'yes', '4', '3', '3', '2', '0', '10\\n']), ('GP', ['M', '18', 'U', 'LE3', 'T', '3', '4', 'services', 'other', 'home', 'mother', '1', '2', '0', 'no', 'no', 'no', 'yes', 'yes', 'yes', 'yes', '4', '3', '3', '5', '11', '16\\n']), ('GP', ['F', '17', 'U', 'GT3', 'A', '2', '2', 'at_home', 'at_home', 'home', 'father', '1', '2', '1', 'no', 'yes', 'no', 'no', 'yes', 'yes', 'yes', '3', '3', '1', '4', '0', '9\\n']), ('GP', ['F', '18', 'U', 'GT3', 'T', '2', '3', 'at_home', 'other', 'course', 'mother', '1', '3', '0', 'no', 'yes', 'no', 'no', 'yes', 'yes', 'yes', '4', '3', '3', '3', '4', '11\\n']), ('GP', ['F', '18', 'U', 'GT3', 'T', '3', '2', 'other', 'services', 'other', 'mother', '1', '3', '0', 'no', 'no', 'no', 'no', 'yes', 'yes', 'yes', '5', '4', '3', '1', '7', '13\\n']), ('GP', ['M', '18', 'R', 'GT3', 'T', '4', '3', 'teacher', 'services', 'course', 'mother', '1', '3', '0', 'no', 'no', 'no', 'no', 'yes', 'yes', 'yes', '5', '3', '2', '4', '9', '16\\n']), ('GP', ['M', '18', 'U', 'GT3', 'T', '4', '3', 'teacher', 'other', 'course', 'mother', '1', '3', '0', 'no', 'yes', 'yes', 'no', 'yes', 'yes', 'yes', '5', '4', '5', '5', '0', '10\\n']), ('GP', ['F', '17', 'U', 'GT3', 'T', '4', '3', 'health', 'other', 'reputation', 'mother', '1', '3', '0', 'no', 'yes', 'yes', 'yes', 'yes', 'yes', 'yes', '4', '4', '3', '4', '0', '13\\n']), ('MS', ['M', '18', 'R', 'GT3', 'T', '3', '2', 'other', 'other', 'course', 'mother', '2', '1', '1', 'no', 'yes', 'no', 'no', 'no', 'yes', 'yes', '2', '5', '5', '5', '10', '11\\n']), ('MS', ['M', '19', 'R', 'GT3', 'T', '1', '1', 'other', 'services', 'home', 'other', '3', '2', '3', 'no', 'no', 'no', 'no', 'yes', 'yes', 'yes', '5', '4', '4', '2', '8', '8\\n']), ('MS', ['M', '17', 'U', 'GT3', 'T', '3', '3', 'health', 'other', 'course', 'mother', '2', '2', '0', 'no', 'yes', 'yes', 'no', 'yes', 'yes', 'yes', '4', '5', '4', '3', '2', '13\\n']), ('MS', ['M', '18', 'U', 'LE3', 'T', '1', '3', 'at_home', 'services', 'course', 'mother', '1', '1', '1', 'no', 'no', 'no', 'no', 'yes', 'no', 'yes', '4', '3', '3', '3', '7', '8\\n']), ('MS', ['M', '19', 'R', 'GT3', 'T', '1', '1', 'other', 'other', 'home', 'other', '3', '1', '1', 'no', 'yes', 'no', 'no', 'yes', 'yes', 'yes', '4', '4', '4', '5', '4', '8\\n']), ('MS', ['M', '17', 'R', 'GT3', 'T', '4', '3', 'services', 'other', 'home', 'mother', '2', '2', '0', 'no', 'yes', 'yes', 'yes', 'no', 'yes', 'yes', '4', '5', '5', '2', '4', '13\\n']), ('MS', ['F', '18', 'U', 'GT3', 'T', '3', '3', 'services', 'services', 'course', 'father', '1', '2', '0', 'no', 'yes', 'no', 'no', 'yes', 'yes', 'no', '5', '3', '4', '5', '0', '10\\n']), ('MS', ['F', '17', 'R', 'GT3', 'T', '4', '4', 'teacher', 'services', 'other', 'father', '2', '2', '0', 'no', 'yes', 'yes', 'yes', 'yes', 'yes', 'yes', '4', '3', '3', '5', '4', '12\\n']), ('MS', ['F', '17', 'U', 'LE3', 'A', '3', '2', 'services', 'other', 'reputation', 'mother', '2', '2', '0', 'no', 'no', 'no', 'no', 'yes', 'yes', 'no', '1', '2', '3', '5', '2', '12\\n']), ('MS', ['M', '18', 'U', 'LE3', 'T', '1', '1', 'other', 'services', 'home', 'father', '2', '1', '0', 'no', 'no', 'no', 'no', 'no', 'yes', 'yes', '3', '3', '2', '3', '4', '10\\n']), ('MS', ['F', '18', 'U', 'LE3', 'T', '1', '1', 'at_home', 'services', 'course', 'father', '2', '3', '0', 'no', 'no', 'no', 'no', 'yes', 'yes', 'yes', '5', '3', '2', '4', '0', '18\\n']), ('MS', ['F', '18', 'R', 'LE3', 'A', '1', '4', 'at_home', 'other', 'course', 'mother', '3', '2', '0', 'no', 'no', 'no', 'no', 'yes', 'yes', 'no', '4', '3', '4', '5', '0', '13\\n']), ('MS', ['M', '18', 'R', 'LE3', 'T', '1', '1', 'at_home', 'other', 'other', 'mother', '2', '2', '1', 'no', 'no', 'no', 'yes', 'no', 'no', 'no', '4', '4', '3', '5', '2', '13\\n']), ('MS', ['F', '18', 'U', 'GT3', 'T', '3', '3', 'services', 'services', 'other', 'mother', '2', '2', '0', 'no', 'yes', 'no', 'no', 'yes', 'yes', 'yes', '4', '3', '2', '3', '0', '11\\n']), ('MS', ['F', '17', 'U', 'LE3', 'T', '4', '4', 'at_home', 'at_home', 'course', 'mother', '1', '2', '0', 'no', 'yes', 'yes', 'yes', 'yes', 'yes', 'yes', '2', '3', '4', '1', '0', '16\\n']), ('MS', ['F', '17', 'R', 'GT3', 'T', '1', '2', 'other', 'services', 'course', 'father', '2', '2', '0', 'no', 'no', 'no', 'no', 'no', 'yes', 'no', '3', '2', '2', '3', '0', '12\\n']), ('MS', ['M', '18', 'R', 'GT3', 'T', '1', '3', 'at_home', 'other', 'course', 'mother', '2', '2', '0', 'no', 'yes', 'yes', 'no', 'yes', 'yes', 'no', '3', '3', '4', '3', '4', '10\\n']), ('MS', ['M', '18', 'U', 'LE3', 'T', '4', '4', 'teacher', 'services', 'other', 'mother', '2', '3', '0', 'no', 'no', 'yes', 'no', 'yes', 'yes', 'yes', '4', '2', '2', '5', '0', '13\\n']), ('MS', ['F', '17', 'R', 'GT3', 'T', '1', '1', 'other', 'services', 'reputation', 'mother', '3', '1', '1', 'no', 'yes', 'yes', 'no', 'yes', 'yes', 'yes', '5', '2', '1', '1', '0', '7\\n']), ('MS', ['F', '18', 'U', 'GT3', 'T', '2', '3', 'at_home', 'services', 'course', 'father', '2', '1', '0', 'no', 'yes', 'yes', 'no', 'yes', 'yes', 'yes', '5', '2', '3', '4', '0', '11\\n']), ('MS', ['F', '18', 'R', 'GT3', 'T', '4', '4', 'other', 'teacher', 'other', 'father', '3', '2', '0', 'no', 'yes', 'yes', 'no', 'no', 'yes', 'yes', '3', '2', '2', '5', '10', '14\\n']), ('MS', ['F', '19', 'U', 'LE3', 'T', '3', '2', 'services', 'services', 'home', 'other', '2', '2', '2', 'no', 'no', 'no', 'yes', 'yes', 'yes', 'no', '3', '2', '2', '3', '4', '7\\n']), ('MS', ['M', '18', 'R', 'LE3', 'T', '1', '2', 'at_home', 'services', 'other', 'father', '3', '1', '0', 'no', 'yes', 'yes', 'yes', 'yes', 'no', 'yes', '4', '3', '3', '3', '3', '14\\n']), ('MS', ['F', '17', 'U', 'GT3', 'T', '2', '2', 'other', 'at_home', 'home', 'mother', '1', '3', '0', 'no', 'no', 'no', 'yes', 'yes', 'yes', 'no', '3', '4', '3', '3', '8', '13\\n']), ('MS', ['F', '17', 'R', 'GT3', 'T', '1', '2', 'other', 'other', 'course', 'mother', '1', '1', '0', 'no', 'no', 'no', 'yes', 'yes', 'yes', 'yes', '3', '5', '5', '1', '14', '6\\n']), ('MS', ['F', '18', 'R', 'LE3', 'T', '4', '4', 'other', 'other', 'reputation', 'mother', '2', '3', '0', 'no', 'no', 'no', 'no', 'yes', 'yes', 'yes', '5', '4', '4', '1', '0', '19\\n']), ('MS', ['F', '18', 'R', 'GT3', 'T', '1', '1', 'other', 'other', 'home', 'mother', '4', '3', '0', 'no', 'no', 'no', 'no', 'yes', 'yes', 'yes', '4', '3', '2', '4', '2', '8\\n']), ('MS', ['F', '20', 'U', 'GT3', 'T', '4', '2', 'health', 'other', 'course', 'other', '2', '3', '2', 'no', 'yes', 'yes', 'no', 'no', 'yes', 'yes', '5', '4', '3', '3', '4', '15\\n']), ('MS', ['F', '18', 'R', 'LE3', 'T', '4', '4', 'teacher', 'services', 'course', 'mother', '1', '2', '0', 'no', 'no', 'yes', 'yes', 'yes', 'yes', 'yes', '5', '4', '3', '2', '4', '8\\n']), ('MS', ['F', '18', 'U', 'GT3', 'T', '3', '3', 'other', 'other', 'home', 'mother', '1', '2', '0', 'no', 'no', 'yes', 'no', 'yes', 'yes', 'yes', '4', '1', '3', '1', '0', '15\\n']), ('MS', ['F', '17', 'R', 'GT3', 'T', '3', '1', 'at_home', 'other', 'reputation', 'mother', '1', '2', '0', 'no', 'yes', 'yes', 'yes', 'no', 'yes', 'yes', '4', '5', '4', '1', '17', '10\\n']), ('MS', ['M', '18', 'U', 'GT3', 'T', '4', '4', 'teacher', 'teacher', 'home', 'father', '1', '2', '0', 'no', 'no', 'yes', 'yes', 'no', 'yes', 'yes', '3', '2', '4', '2', '4', '15\\n']), ('MS', ['M', '18', 'R', 'GT3', 'T', '2', '1', 'other', 'other', 'other', 'mother', '2', '1', '0', 'no', 'no', 'no', 'yes', 'no', 'yes', 'yes', '4', '4', '3', '5', '5', '7\\n']), ('MS', ['M', '17', 'U', 'GT3', 'T', '2', '3', 'other', 'services', 'home', 'father', '2', '2', '0', 'no', 'no', 'no', 'yes', 'yes', 'yes', 'yes', '4', '4', '3', '3', '2', '11\\n']), ('MS', ['M', '19', 'R', 'GT3', 'T', '1', '1', 'other', 'services', 'other', 'mother', '2', '1', '1', 'no', 'no', 'no', 'no', 'yes', 'yes', 'no', '4', '3', '2', '5', '0', '6\\n']), ('MS', ['M', '18', 'R', 'GT3', 'T', '4', '2', 'other', 'other', 'home', 'father', '2', '1', '1', 'no', 'no', 'yes', 'no', 'yes', 'yes', 'no', '5', '4', '3', '3', '14', '6\\n']), ('MS', ['F', '18', 'R', 'GT3', 'T', '2', '2', 'at_home', 'other', 'other', 'mother', '2', '3', '0', 'no', 'no', 'yes', 'no', 'yes', 'yes', 'no', '5', '3', '3', '4', '2', '10\\n']), ('MS', ['F', '18', 'R', 'GT3', 'T', '4', '4', 'teacher', 'at_home', 'reputation', 'mother', '3', '1', '0', 'no', 'yes', 'yes', 'yes', 'yes', 'yes', 'yes', '4', '4', '3', '5', '7', '6\\n']), ('MS', ['F', '19', 'R', 'GT3', 'T', '2', '3', 'services', 'other', 'course', 'mother', '1', '3', '1', 'no', 'no', 'no', 'yes', 'no', 'yes', 'yes', '5', '4', '2', '5', '0', '7\\n']), ('MS', ['F', '18', 'U', 'LE3', 'T', '3', '1', 'teacher', 'services', 'course', 'mother', '1', '2', '0', 'no', 'yes', 'yes', 'no', 'yes', 'yes', 'yes', '4', '3', '4', '1', '0', '7\\n']), ('MS', ['F', '18', 'U', 'GT3', 'T', '1', '1', 'other', 'other', 'course', 'mother', '2', '2', '1', 'no', 'no', 'no', 'yes', 'yes', 'yes', 'no', '1', '1', '1', '5', '0', '6\\n']), ('MS', ['M', '20', 'U', 'LE3', 'A', '2', '2', 'services', 'services', 'course', 'other', '1', '2', '2', 'no', 'yes', 'yes', 'no', 'yes', 'yes', 'no', '5', '5', '4', '4', '11', '9\\n']), ('MS', ['M', '17', 'U', 'LE3', 'T', '3', '1', 'services', 'services', 'course', 'mother', '2', '1', '0', 'no', 'no', 'no', 'no', 'no', 'yes', 'yes', '2', '4', '5', '2', '3', '14\\n']), ('MS', ['M', '21', 'R', 'GT3', 'T', '1', '1', 'other', 'other', 'course', 'other', '1', '1', '3', 'no', 'no', 'no', 'no', 'no', 'yes', 'no', '5', '5', '3', '3', '3', '10\\n']), ('MS', ['M', '18', 'R', 'LE3', 'T', '3', '2', 'services', 'other', 'course', 'mother', '3', '1', '0', 'no', 'no', 'no', 'no', 'no', 'yes', 'yes', '4', '4', '1', '5', '0', '11\\n']), ('MS', ['M', '19', 'U', 'LE3', 'T', '1', '1', 'other', 'at_home', 'course', 'father', '1', '1', '0', 'no', 'no', 'no', 'no', 'yes', 'yes', 'yes', '3', '2', '3', '5', '5', '8\\n'])]\n"
          ]
        }
      ]
    },
    {
      "cell_type": "markdown",
      "metadata": {
        "id": "esYqkz3PApta"
      },
      "source": [
        "# Getting Grades by manipulating the df"
      ]
    },
    {
      "cell_type": "code",
      "metadata": {
        "colab": {
          "base_uri": "https://localhost:8080/"
        },
        "id": "M9EhNQH9Aslm",
        "outputId": "8f42b72c-007f-4e5b-a090-0aeb767f5f66"
      },
      "source": [
        "grades = []\n",
        "for i in range(1, len(df)):\n",
        "  # rstrip() is used to ignore the \"\\n\" that comes after every grade\n",
        "  # We need to convert strings into int explicitly\n",
        "  grades.append(float(df[i][1][26].rstrip()))\n",
        "\n",
        "print(grades)\n"
      ],
      "execution_count": 187,
      "outputs": [
        {
          "output_type": "stream",
          "name": "stdout",
          "text": [
            "[5.0, 5.0, 7.0, 15.0, 6.0, 15.0, 12.0, 6.0, 16.0, 14.0, 10.0, 10.0, 14.0, 10.0, 14.0, 14.0, 13.0, 8.0, 6.0, 8.0, 13.0, 12.0, 15.0, 13.0, 10.0, 6.0, 12.0, 15.0, 11.0, 10.0, 9.0, 17.0, 17.0, 8.0, 12.0, 8.0, 15.0, 15.0, 12.0, 14.0, 7.0, 12.0, 19.0, 8.0, 10.0, 8.0, 11.0, 19.0, 15.0, 7.0, 12.0, 11.0, 11.0, 8.0, 10.0, 8.0, 14.0, 14.0, 9.0, 15.0, 10.0, 10.0, 8.0, 10.0, 10.0, 16.0, 13.0, 7.0, 8.0, 16.0, 13.0, 10.0, 8.0, 12.0, 11.0, 9.0, 11.0, 11.0, 8.0, 5.0, 10.0, 11.0, 7.0, 15.0, 9.0, 7.0, 8.0, 13.0, 11.0, 8.0, 7.0, 16.0, 7.0, 11.0, 11.0, 7.0, 11.0, 8.0, 11.0, 7.0, 7.0, 16.0, 10.0, 7.0, 16.0, 10.0, 7.0, 16.0, 10.0, 14.0, 18.0, 7.0, 10.0, 18.0, 9.0, 15.0, 11.0, 13.0, 9.0, 14.0, 16.0, 16.0, 13.0, 14.0, 8.0, 13.0, 7.0, 7.0, 7.0, 18.0, 12.0, 8.0, 10.0, 12.0, 9.0, 11.0, 10.0, 4.0, 14.0, 16.0, 7.0, 9.0, 9.0, 14.0, 5.0, 8.0, 6.0, 10.0, 7.0, 8.0, 6.0, 12.0, 10.0, 5.0, 11.0, 11.0, 16.0, 9.0, 17.0, 10.0, 7.0, 5.0, 7.0, 10.0, 5.0, 12.0, 10.0, 14.0, 6.0, 14.0, 6.0, 13.0, 13.0, 8.0, 10.0, 10.0, 13.0, 6.0, 10.0, 10.0, 9.0, 12.0, 16.0, 9.0, 12.0, 12.0, 11.0, 15.0, 8.0, 8.0, 11.0, 8.0, 7.0, 8.0, 13.0, 14.0, 17.0, 9.0, 18.0, 9.0, 16.0, 8.0, 9.0, 7.0, 10.0, 10.0, 7.0, 11.0, 9.0, 7.0, 8.0, 12.0, 12.0, 6.0, 8.0, 14.0, 6.0, 6.0, 7.0, 9.0, 6.0, 6.0, 16.0, 12.0, 13.0, 9.0, 16.0, 12.0, 10.0, 12.0, 13.0, 11.0, 11.0, 14.0, 9.0, 11.0, 14.0, 13.0, 13.0, 7.0, 12.0, 10.0, 6.0, 13.0, 7.0, 18.0, 12.0, 6.0, 3.0, 13.0, 6.0, 7.0, 6.0, 8.0, 8.0, 7.0, 14.0, 11.0, 15.0, 10.0, 17.0, 8.0, 13.0, 10.0, 9.0, 17.0, 9.0, 12.0, 10.0, 6.0, 9.0, 15.0, 11.0, 15.0, 10.0, 12.0, 10.0, 9.0, 9.0, 10.0, 8.0, 11.0, 12.0, 8.0, 10.0, 12.0, 18.0, 13.0, 15.0, 15.0, 12.0, 15.0, 12.0, 18.0, 14.0, 14.0, 10.0, 10.0, 14.0, 16.0, 12.0, 11.0, 15.0, 17.0, 15.0, 14.0, 17.0, 8.0, 15.0, 12.0, 9.0, 14.0, 13.0, 13.0, 15.0, 13.0, 8.0, 9.0, 11.0, 11.0, 13.0, 11.0, 11.0, 12.0, 16.0, 9.0, 14.0, 11.0, 10.0, 14.0, 9.0, 12.0, 7.0, 8.0, 10.0, 16.0, 14.0, 7.0, 16.0, 9.0, 11.0, 10.0, 16.0, 9.0, 11.0, 13.0, 16.0, 10.0, 13.0, 11.0, 8.0, 13.0, 8.0, 8.0, 13.0, 10.0, 12.0, 12.0, 10.0, 18.0, 13.0, 13.0, 11.0, 16.0, 12.0, 10.0, 13.0, 7.0, 11.0, 14.0, 7.0, 14.0, 13.0, 6.0, 19.0, 8.0, 15.0, 8.0, 15.0, 10.0, 15.0, 7.0, 11.0, 6.0, 6.0, 10.0, 6.0, 7.0, 7.0, 6.0, 9.0, 14.0, 10.0, 11.0, 8.0]\n"
          ]
        }
      ]
    },
    {
      "cell_type": "markdown",
      "metadata": {
        "id": "z9vuyjy-TF-7"
      },
      "source": [
        "# Normal Distribution"
      ]
    },
    {
      "cell_type": "markdown",
      "metadata": {
        "id": "b1BLkj7cTISW"
      },
      "source": [
        "Graphs implemented using inbuilt functions from matplotlib.pyplot in other notebook, as no inbuilt function is allowed to use here"
      ]
    },
    {
      "cell_type": "markdown",
      "metadata": {
        "id": "1OMjI-WfAI3E"
      },
      "source": [
        "# Calculation of mean, median, mode, etc"
      ]
    },
    {
      "cell_type": "markdown",
      "metadata": {
        "id": "EqvdZiTiGu7n"
      },
      "source": [
        "# Mean"
      ]
    },
    {
      "cell_type": "code",
      "metadata": {
        "colab": {
          "base_uri": "https://localhost:8080/"
        },
        "id": "L7Rt9dUh_aTD",
        "outputId": "50dc9f50-d404-4b96-864a-fb5aeca23989"
      },
      "source": [
        "mean = sum(grades) / len(grades)\n",
        "print(mean)"
      ],
      "execution_count": 188,
      "outputs": [
        {
          "output_type": "stream",
          "name": "stdout",
          "text": [
            "10.90886075949367\n"
          ]
        }
      ]
    },
    {
      "cell_type": "markdown",
      "metadata": {
        "id": "kHYDHMqpGzMm"
      },
      "source": [
        "# Median\n"
      ]
    },
    {
      "cell_type": "code",
      "metadata": {
        "colab": {
          "base_uri": "https://localhost:8080/"
        },
        "id": "SZPxkkN0DNaB",
        "outputId": "ddb7fa69-f783-40c9-a994-c3124b4a6869"
      },
      "source": [
        "grades_median = sorted(grades)\n",
        "n = len(grades_median)\n",
        "\n",
        "if n % 2 == 0:\n",
        "    median1 = grades_median[n//2]\n",
        "    median2 = grades_median[n//2 - 1]\n",
        "    median = (median1 + median2)/2\n",
        "else:\n",
        "    median = grades_median[n//2]\n",
        "print(\"Median is: \" + str(median))"
      ],
      "execution_count": 189,
      "outputs": [
        {
          "output_type": "stream",
          "name": "stdout",
          "text": [
            "Median is: 11.0\n"
          ]
        }
      ]
    },
    {
      "cell_type": "markdown",
      "metadata": {
        "id": "K5tzR3RzG0e6"
      },
      "source": [
        "# Mode"
      ]
    },
    {
      "cell_type": "code",
      "metadata": {
        "colab": {
          "base_uri": "https://localhost:8080/"
        },
        "id": "982qymmuG054",
        "outputId": "45f13e03-a8f2-42c5-b2cd-6d4e8d0e8e88"
      },
      "source": [
        "# First you sort it - We did it - grades_medain\n",
        "\n",
        "# Now open an empty list.\n",
        "# What you are going to do is to count\n",
        "# the occurrence of each number and append\n",
        "# (or to add your findings to) L1\n",
        "L1=[]\n",
        "  \n",
        "# You can iterate through the sorted list\n",
        "# of numbers in grades_median,\n",
        "# counting the occurrence of each number,\n",
        "  \n",
        "i = 0\n",
        "while i < len(grades_median) :\n",
        "    L1.append(grades_median.count(grades_median[i]))\n",
        "    i += 1\n",
        "  \n",
        "\n",
        "# the occurrences for each number in sorted grades_median\n",
        "  \n",
        "# now you can create a custom dictionary d1 for k : V\n",
        "# where k = your values in sorted grades_median \n",
        "# and v = the occurrences of each value in grades_median\n",
        "  \n",
        "  \n",
        "d1 = dict(zip(grades_median, L1))\n",
        "  \n",
        "# your d1 will be {3: 1, 4: 2, 5: 1, 6: 3, 7: 1, 8: 3, 11: 1}\n",
        "# now what you need to do is to filter \n",
        "# the k values with the highest v values.\n",
        "# do this with the following code\n",
        "  \n",
        "d2={k for (k,v) in d1.items() if v == max(L1) }\n",
        "  \n",
        "# print(d2)\n",
        "mode = sum(d2) / len(d2)\n",
        "print(mode)"
      ],
      "execution_count": 190,
      "outputs": [
        {
          "output_type": "stream",
          "name": "stdout",
          "text": [
            "10.0\n"
          ]
        }
      ]
    },
    {
      "cell_type": "markdown",
      "metadata": {
        "id": "vTqQFuC5G1f3"
      },
      "source": [
        "# Variance"
      ]
    },
    {
      "cell_type": "code",
      "metadata": {
        "colab": {
          "base_uri": "https://localhost:8080/"
        },
        "id": "JKm1QjbNG2je",
        "outputId": "620a9625-9b41-4c55-db32-4f38b24216a7"
      },
      "source": [
        "variance = sum((i - mean) ** 2 for i in grades) / len(grades)\n",
        "print(variance)"
      ],
      "execution_count": 191,
      "outputs": [
        {
          "output_type": "stream",
          "name": "stdout",
          "text": [
            "10.989161993270304\n"
          ]
        }
      ]
    },
    {
      "cell_type": "markdown",
      "metadata": {
        "id": "M2y3HewiHCFJ"
      },
      "source": [
        "# Standard Deviation"
      ]
    },
    {
      "cell_type": "code",
      "metadata": {
        "colab": {
          "base_uri": "https://localhost:8080/"
        },
        "id": "8qRuowO8G89d",
        "outputId": "fb981d38-6168-461d-962e-26c173a98d32"
      },
      "source": [
        "std = math.sqrt(variance)\n",
        "print(std)"
      ],
      "execution_count": 192,
      "outputs": [
        {
          "output_type": "stream",
          "name": "stdout",
          "text": [
            "3.314990496708898\n"
          ]
        }
      ]
    },
    {
      "cell_type": "markdown",
      "metadata": {
        "id": "QA6hYejZModv"
      },
      "source": [
        "# Skewness"
      ]
    },
    {
      "cell_type": "code",
      "metadata": {
        "colab": {
          "base_uri": "https://localhost:8080/"
        },
        "id": "bYXhsE1oMpTE",
        "outputId": "20377f4b-6266-46ea-ff61-f55cffb2ea2b"
      },
      "source": [
        "skewness = 3 * (mean - median) / std\n",
        "print(skewness)"
      ],
      "execution_count": 193,
      "outputs": [
        {
          "output_type": "stream",
          "name": "stdout",
          "text": [
            "-0.08247918713204042\n"
          ]
        }
      ]
    },
    {
      "cell_type": "markdown",
      "metadata": {
        "id": "nd4RBnD-Sxp9"
      },
      "source": [
        "skewness < 0 : more weight in the right tail of the distribution. \n",
        "\n",
        "skewness = 0 : normally distributed.\n",
        "\n",
        "skewness > 0 : more weight in the left tail of the distribution."
      ]
    },
    {
      "cell_type": "code",
      "metadata": {
        "colab": {
          "base_uri": "https://localhost:8080/"
        },
        "id": "Hpg_vL-cOq10",
        "outputId": "a79dec6b-f88d-44ad-d7fe-2756abcca69d"
      },
      "source": [
        "if skewness < 0:\n",
        "  print(\"More weight in the right tail of the distribution\")\n",
        "elif skewness  > 0:\n",
        "  print(\"More weight in the left tail of the distribution.\")\n",
        "elif skewness == 0:\n",
        "  print(\"Normally distributed.\")"
      ],
      "execution_count": 194,
      "outputs": [
        {
          "output_type": "stream",
          "name": "stdout",
          "text": [
            "More weight in the right tail of the distribution\n"
          ]
        }
      ]
    },
    {
      "cell_type": "markdown",
      "metadata": {
        "id": "_VjvbPTJMrQK"
      },
      "source": [
        "# Kurtosis"
      ]
    },
    {
      "cell_type": "markdown",
      "metadata": {
        "id": "029dTjS5S3Nm"
      },
      "source": [
        "Kutosis is a measure of thickness of the tail of a distribution"
      ]
    },
    {
      "cell_type": "code",
      "metadata": {
        "colab": {
          "base_uri": "https://localhost:8080/"
        },
        "id": "byufl9I5MsNS",
        "outputId": "64a5219f-73b7-4682-c0eb-b8c427b90ed1"
      },
      "source": [
        "total = 0\n",
        "sigma = std\n",
        "for i in grades:\n",
        "  total += (i - mean) ** 4\n",
        "# print(total)\n",
        "kurt = total / sigma ** 4\n",
        "kurt = kurt / len(grades)\n",
        "print(\"Normal Kurtosis: \", kurt)\n",
        "print(\"Exessive Kurtosis: \", kurt - 3)\n",
        "kurt = kurt - 3"
      ],
      "execution_count": 195,
      "outputs": [
        {
          "output_type": "stream",
          "name": "stdout",
          "text": [
            "Normal Kurtosis:  2.2997705620489697\n",
            "Exessive Kurtosis:  -0.7002294379510303\n"
          ]
        }
      ]
    },
    {
      "cell_type": "code",
      "metadata": {
        "colab": {
          "base_uri": "https://localhost:8080/"
        },
        "id": "V3DgOKf5Prxh",
        "outputId": "8ed78289-277d-4209-8eb6-6795cd6bbe4f"
      },
      "source": [
        "if kurt > 0:\n",
        "  print(\"Leptokurtic: Peaks sharply with fat tails, less variability\")\n",
        "elif kurt == 0:\n",
        "  print(\"Normal distribution\")\n",
        "elif kurt < 0:\n",
        "  print(\"Platykurtic: Flattended, highly dispersed\")"
      ],
      "execution_count": 196,
      "outputs": [
        {
          "output_type": "stream",
          "name": "stdout",
          "text": [
            "Platykurtic: Flattended, highly dispersed\n"
          ]
        }
      ]
    }
  ]
}