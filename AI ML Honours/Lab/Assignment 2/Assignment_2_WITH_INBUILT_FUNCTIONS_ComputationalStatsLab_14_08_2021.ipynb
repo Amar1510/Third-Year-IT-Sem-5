{
  "nbformat": 4,
  "nbformat_minor": 0,
  "metadata": {
    "colab": {
      "name": "Assignment 2 WITH INBUILT FUNCTIONS ComputationalStatsLab 14/08/2021.ipynb",
      "provenance": [],
      "collapsed_sections": []
    },
    "kernelspec": {
      "name": "python3",
      "display_name": "Python 3"
    },
    "language_info": {
      "name": "python"
    }
  },
  "cells": [
    {
      "cell_type": "markdown",
      "metadata": {
        "id": "yDD8rbtLj4Fs"
      },
      "source": [
        "#  ***33323 - Aditya Kangune***\n",
        "# **Assignment 2**\n",
        "# WITH inbuilt functions"
      ]
    },
    {
      "cell_type": "markdown",
      "metadata": {
        "id": "WDzhz8DxkAwn"
      },
      "source": [
        "1. Plot the Normal Distribution for class test result of a particular subject. (Choose the Dataset of your choice with min. 100 students)\n",
        "\n",
        "2. Identify the Skewness and Kurtosis"
      ]
    },
    {
      "cell_type": "markdown",
      "metadata": {
        "id": "Jf7NaDhJSbWA"
      },
      "source": [
        "Chosen dataset link: https://www.kaggle.com/uciml/student-alcohol-consumption"
      ]
    },
    {
      "cell_type": "markdown",
      "metadata": {
        "id": "JrNClegksFBS"
      },
      "source": [
        "**Normal distribution** is a probability function used in statistics that tells about how the data values are distributed. It is the most important probability distribution function used in statistics because of its advantages in real case scenarios. For example, the height of the population, shoe size, IQ level, rolling a die, and many more. "
      ]
    },
    {
      "cell_type": "code",
      "metadata": {
        "id": "nabg18WLjelM"
      },
      "source": [
        "import pandas as pd\n",
        "import numpy as np\n",
        "import matplotlib.pyplot as plt\n",
        "import statistics\n",
        "from scipy.stats import skew, kurtosis\n",
        "import matplotlib.pyplot as plt\n",
        "import pylab as p \n",
        "import scipy.stats as stats\n",
        "import math\n",
        "import seaborn as sns"
      ],
      "execution_count": 414,
      "outputs": []
    },
    {
      "cell_type": "code",
      "metadata": {
        "colab": {
          "base_uri": "https://localhost:8080/"
        },
        "id": "Rbx1AyvFkqkA",
        "outputId": "ed13cfa7-3c47-4520-8891-2ab01062e650"
      },
      "source": [
        "df = pd.read_csv(\"/content/drive/MyDrive/Datasets/student-mat.csv\")\n",
        "print(df)"
      ],
      "execution_count": 415,
      "outputs": [
        {
          "output_type": "stream",
          "name": "stdout",
          "text": [
            "    school sex  age address famsize  ... freetime  goout  health absences Grades\n",
            "0       GP   F   18       U     GT3  ...        3      4       3        6      5\n",
            "1       GP   F   17       U     GT3  ...        3      3       3        4      5\n",
            "2       GP   F   15       U     LE3  ...        3      2       3       10      7\n",
            "3       GP   F   15       U     GT3  ...        2      2       5        2     15\n",
            "4       GP   F   16       U     GT3  ...        3      2       5        4      6\n",
            "..     ...  ..  ...     ...     ...  ...      ...    ...     ...      ...    ...\n",
            "390     MS   M   20       U     LE3  ...        5      4       4       11      9\n",
            "391     MS   M   17       U     LE3  ...        4      5       2        3     14\n",
            "392     MS   M   21       R     GT3  ...        5      3       3        3     10\n",
            "393     MS   M   18       R     LE3  ...        4      1       5        0     11\n",
            "394     MS   M   19       U     LE3  ...        2      3       5        5      8\n",
            "\n",
            "[395 rows x 28 columns]\n"
          ]
        }
      ]
    },
    {
      "cell_type": "markdown",
      "metadata": {
        "id": "sC6kGP05M12z"
      },
      "source": [
        "Number of students(min 100 required)"
      ]
    },
    {
      "cell_type": "code",
      "metadata": {
        "colab": {
          "base_uri": "https://localhost:8080/"
        },
        "id": "EXgiYhV9M6fq",
        "outputId": "a7681c19-379e-415a-d515-74796860e83c"
      },
      "source": [
        "print(\"Number of studnets: \", len(df))"
      ],
      "execution_count": 416,
      "outputs": [
        {
          "output_type": "stream",
          "name": "stdout",
          "text": [
            "Number of studnets:  395\n"
          ]
        }
      ]
    },
    {
      "cell_type": "markdown",
      "metadata": {
        "id": "V0TicUOPNF7R"
      },
      "source": [
        "# Visualzing the data for grades"
      ]
    },
    {
      "cell_type": "code",
      "metadata": {
        "colab": {
          "base_uri": "https://localhost:8080/",
          "height": 265
        },
        "id": "N8DCoiOutvlk",
        "outputId": "f5fb470b-7daf-47ec-c35b-6b7fac258c9b"
      },
      "source": [
        "y1 = df[\"Grades\"]\n",
        "plt.plot(y1)\n",
        "plt.show()"
      ],
      "execution_count": 417,
      "outputs": [
        {
          "output_type": "display_data",
          "data": {
            "image/png": "[encoded data removed]",
            "text/plain": [
              "<Figure size 432x288 with 1 Axes>"
            ]
          },
          "metadata": {
            "needs_background": "light"
          }
        }
      ]
    },
    {
      "cell_type": "code",
      "metadata": {
        "colab": {
          "base_uri": "https://localhost:8080/",
          "height": 638
        },
        "id": "3AT2mfmHMFL4",
        "outputId": "5a3a3a75-d6b2-4f95-8d88-8f2251c27179"
      },
      "source": [
        "grades = df[\"Grades\"]\n",
        "# Histogram that shows the distribution for the mean of all surveys\n",
        "fig, ax = plt.subplots(figsize=(12,8))\n",
        "sns.distplot(grades, \n",
        "             kde=False, label='Grades')\n",
        "ax.set_xlabel(\"Grade\",fontsize=16)\n",
        "ax.set_ylabel(\"Frequency\",fontsize=16)\n",
        "# plt.axvline(target, color='red')\n",
        "plt.legend()\n",
        "plt.tight_layout()\n",
        "plt.show()"
      ],
      "execution_count": 418,
      "outputs": [
        {
          "output_type": "stream",
          "name": "stderr",
          "text": [
            "/usr/local/lib/python3.7/dist-packages/seaborn/distributions.py:2557: FutureWarning: `distplot` is a deprecated function and will be removed in a future version. Please adapt your code to use either `displot` (a figure-level function with similar flexibility) or `histplot` (an axes-level function for histograms).\n",
            "  warnings.warn(msg, FutureWarning)\n"
          ]
        },
        {
          "output_type": "display_data",
          "data": {
            "image/png": "[encoded data removed]",
            "text/plain": [
              "<Figure size 864x576 with 1 Axes>"
            ]
          },
          "metadata": {
            "needs_background": "light"
          }
        }
      ]
    },
    {
      "cell_type": "code",
      "metadata": {
        "colab": {
          "base_uri": "https://localhost:8080/"
        },
        "id": "GLyR5HQ0ulW0",
        "outputId": "3657fb1d-71f4-476c-ffa8-006c6380eda5"
      },
      "source": [
        "mean = statistics.mean(df[\"Grades\"])\n",
        "print(mean)"
      ],
      "execution_count": 419,
      "outputs": [
        {
          "output_type": "stream",
          "name": "stdout",
          "text": [
            "10.90886075949367\n"
          ]
        }
      ]
    },
    {
      "cell_type": "code",
      "metadata": {
        "colab": {
          "base_uri": "https://localhost:8080/"
        },
        "id": "VfAwsxouvQqQ",
        "outputId": "ffbba46c-5fbd-4f54-891c-1560ce2c0d92"
      },
      "source": [
        "sd = statistics.stdev(df[\"Grades\"])\n",
        "print(sd)"
      ],
      "execution_count": 420,
      "outputs": [
        {
          "output_type": "stream",
          "name": "stdout",
          "text": [
            "3.319194671507669\n"
          ]
        }
      ]
    },
    {
      "cell_type": "code",
      "metadata": {
        "colab": {
          "base_uri": "https://localhost:8080/"
        },
        "id": "ywpKMxIrxo-1",
        "outputId": "9c2af740-817d-40bb-ec67-b560383d091d"
      },
      "source": [
        "variance = statistics.variance(df[\"Grades\"])\n",
        "print(variance)"
      ],
      "execution_count": 421,
      "outputs": [
        {
          "output_type": "stream",
          "name": "stdout",
          "text": [
            "11.017053267364904\n"
          ]
        }
      ]
    },
    {
      "cell_type": "code",
      "metadata": {
        "colab": {
          "base_uri": "https://localhost:8080/"
        },
        "id": "w2qV78tm4wOm",
        "outputId": "4d3b554a-a125-4d67-8469-8bed9f960f69"
      },
      "source": [
        "median = statistics.median(df[\"Grades\"])\n",
        "print(median)"
      ],
      "execution_count": 422,
      "outputs": [
        {
          "output_type": "stream",
          "name": "stdout",
          "text": [
            "11\n"
          ]
        }
      ]
    },
    {
      "cell_type": "code",
      "metadata": {
        "id": "h-IXZXuvONjc"
      },
      "source": [
        "std = statistics.stdev(df[\"Grades\"])"
      ],
      "execution_count": 423,
      "outputs": []
    },
    {
      "cell_type": "markdown",
      "metadata": {
        "id": "NUXtxaFc797n"
      },
      "source": [
        "mode = 3medain -2mean"
      ]
    },
    {
      "cell_type": "code",
      "metadata": {
        "colab": {
          "base_uri": "https://localhost:8080/"
        },
        "id": "e91_JfiT4T97",
        "outputId": "18cd4fdd-e7a9-44da-c9f3-ede5c231d0ae"
      },
      "source": [
        "mode = statistics.mode(df[\"Grades\"])\n",
        "print(mode)"
      ],
      "execution_count": 424,
      "outputs": [
        {
          "output_type": "stream",
          "name": "stdout",
          "text": [
            "10\n"
          ]
        }
      ]
    },
    {
      "cell_type": "code",
      "metadata": {
        "colab": {
          "base_uri": "https://localhost:8080/"
        },
        "id": "mne9BYxBwtcE",
        "outputId": "b0085d05-e397-422e-c71e-96dc6870ea00"
      },
      "source": [
        "stats.norm.pdf(df[\"Grades\"], mean, sd)"
      ],
      "execution_count": 425,
      "outputs": [
        {
          "output_type": "execute_result",
          "data": {
            "text/plain": [
              "array([0.02464372, 0.02464372, 0.06007903, 0.05623168, 0.04026472,\n",
              "       0.05623168, 0.11387039, 0.04026472, 0.03706785, 0.07790127,\n",
              "       0.11577006, 0.11577006, 0.07790127, 0.11577006, 0.07790127,\n",
              "       0.07790127, 0.09855706, 0.08186549, 0.04026472, 0.08186549,\n",
              "       0.09855706, 0.11387039, 0.05623168, 0.09855706, 0.11577006,\n",
              "       0.04026472, 0.11387039, 0.05623168, 0.12014719, 0.11577006,\n",
              "       0.1018729 , 0.02231483, 0.02231483, 0.08186549, 0.11387039,\n",
              "       0.08186549, 0.05623168, 0.05623168, 0.11387039, 0.07790127,\n",
              "       0.06007903, 0.11387039, 0.00615921, 0.08186549, 0.11577006,\n",
              "       0.08186549, 0.12014719, 0.00615921, 0.05623168, 0.06007903,\n",
              "       0.11387039, 0.12014719, 0.12014719, 0.08186549, 0.11577006,\n",
              "       0.08186549, 0.07790127, 0.07790127, 0.1018729 , 0.05623168,\n",
              "       0.11577006, 0.11577006, 0.08186549, 0.11577006, 0.11577006,\n",
              "       0.03706785, 0.09855706, 0.06007903, 0.08186549, 0.03706785,\n",
              "       0.09855706, 0.11577006, 0.08186549, 0.11387039, 0.12014719,\n",
              "       0.1018729 , 0.12014719, 0.12014719, 0.08186549, 0.02464372,\n",
              "       0.11577006, 0.12014719, 0.06007903, 0.05623168, 0.1018729 ,\n",
              "       0.06007903, 0.08186549, 0.09855706, 0.12014719, 0.08186549,\n",
              "       0.06007903, 0.03706785, 0.06007903, 0.12014719, 0.12014719,\n",
              "       0.06007903, 0.12014719, 0.08186549, 0.12014719, 0.06007903,\n",
              "       0.06007903, 0.03706785, 0.11577006, 0.06007903, 0.03706785,\n",
              "       0.11577006, 0.06007903, 0.03706785, 0.11577006, 0.07790127,\n",
              "       0.01226788, 0.06007903, 0.11577006, 0.01226788, 0.1018729 ,\n",
              "       0.05623168, 0.12014719, 0.09855706, 0.1018729 , 0.07790127,\n",
              "       0.03706785, 0.03706785, 0.09855706, 0.07790127, 0.08186549,\n",
              "       0.09855706, 0.06007903, 0.06007903, 0.06007903, 0.01226788,\n",
              "       0.11387039, 0.08186549, 0.11577006, 0.11387039, 0.1018729 ,\n",
              "       0.12014719, 0.11577006, 0.01377424, 0.07790127, 0.03706785,\n",
              "       0.06007903, 0.1018729 , 0.1018729 , 0.07790127, 0.02464372,\n",
              "       0.08186549, 0.04026472, 0.11577006, 0.06007903, 0.08186549,\n",
              "       0.04026472, 0.11387039, 0.11577006, 0.02464372, 0.12014719,\n",
              "       0.12014719, 0.03706785, 0.1018729 , 0.02231483, 0.11577006,\n",
              "       0.06007903, 0.02464372, 0.06007903, 0.11577006, 0.02464372,\n",
              "       0.11387039, 0.11577006, 0.07790127, 0.04026472, 0.07790127,\n",
              "       0.04026472, 0.09855706, 0.09855706, 0.08186549, 0.11577006,\n",
              "       0.11577006, 0.09855706, 0.04026472, 0.11577006, 0.11577006,\n",
              "       0.1018729 , 0.11387039, 0.03706785, 0.1018729 , 0.11387039,\n",
              "       0.11387039, 0.12014719, 0.05623168, 0.08186549, 0.08186549,\n",
              "       0.12014719, 0.08186549, 0.06007903, 0.08186549, 0.09855706,\n",
              "       0.07790127, 0.02231483, 0.1018729 , 0.01226788, 0.1018729 ,\n",
              "       0.03706785, 0.08186549, 0.1018729 , 0.06007903, 0.11577006,\n",
              "       0.11577006, 0.06007903, 0.12014719, 0.1018729 , 0.06007903,\n",
              "       0.08186549, 0.11387039, 0.11387039, 0.04026472, 0.08186549,\n",
              "       0.07790127, 0.04026472, 0.04026472, 0.06007903, 0.1018729 ,\n",
              "       0.04026472, 0.04026472, 0.03706785, 0.11387039, 0.09855706,\n",
              "       0.1018729 , 0.03706785, 0.11387039, 0.11577006, 0.11387039,\n",
              "       0.09855706, 0.12014719, 0.12014719, 0.07790127, 0.1018729 ,\n",
              "       0.12014719, 0.07790127, 0.09855706, 0.09855706, 0.06007903,\n",
              "       0.11387039, 0.11577006, 0.04026472, 0.09855706, 0.06007903,\n",
              "       0.01226788, 0.11387039, 0.04026472, 0.00703087, 0.09855706,\n",
              "       0.04026472, 0.06007903, 0.04026472, 0.08186549, 0.08186549,\n",
              "       0.06007903, 0.07790127, 0.12014719, 0.05623168, 0.11577006,\n",
              "       0.02231483, 0.08186549, 0.09855706, 0.11577006, 0.1018729 ,\n",
              "       0.02231483, 0.1018729 , 0.11387039, 0.11577006, 0.04026472,\n",
              "       0.1018729 , 0.05623168, 0.12014719, 0.05623168, 0.11577006,\n",
              "       0.11387039, 0.11577006, 0.1018729 , 0.1018729 , 0.11577006,\n",
              "       0.08186549, 0.12014719, 0.11387039, 0.08186549, 0.11577006,\n",
              "       0.11387039, 0.01226788, 0.09855706, 0.05623168, 0.05623168,\n",
              "       0.11387039, 0.05623168, 0.11387039, 0.01226788, 0.07790127,\n",
              "       0.07790127, 0.11577006, 0.11577006, 0.07790127, 0.03706785,\n",
              "       0.11387039, 0.12014719, 0.05623168, 0.02231483, 0.05623168,\n",
              "       0.07790127, 0.02231483, 0.08186549, 0.05623168, 0.11387039,\n",
              "       0.1018729 , 0.07790127, 0.09855706, 0.09855706, 0.05623168,\n",
              "       0.09855706, 0.08186549, 0.1018729 , 0.12014719, 0.12014719,\n",
              "       0.09855706, 0.12014719, 0.12014719, 0.11387039, 0.03706785,\n",
              "       0.1018729 , 0.07790127, 0.12014719, 0.11577006, 0.07790127,\n",
              "       0.1018729 , 0.11387039, 0.06007903, 0.08186549, 0.11577006,\n",
              "       0.03706785, 0.07790127, 0.06007903, 0.03706785, 0.1018729 ,\n",
              "       0.12014719, 0.11577006, 0.03706785, 0.1018729 , 0.12014719,\n",
              "       0.09855706, 0.03706785, 0.11577006, 0.09855706, 0.12014719,\n",
              "       0.08186549, 0.09855706, 0.08186549, 0.08186549, 0.09855706,\n",
              "       0.11577006, 0.11387039, 0.11387039, 0.11577006, 0.01226788,\n",
              "       0.09855706, 0.09855706, 0.12014719, 0.03706785, 0.11387039,\n",
              "       0.11577006, 0.09855706, 0.06007903, 0.12014719, 0.07790127,\n",
              "       0.06007903, 0.07790127, 0.09855706, 0.04026472, 0.00615921,\n",
              "       0.08186549, 0.05623168, 0.08186549, 0.05623168, 0.11577006,\n",
              "       0.05623168, 0.06007903, 0.12014719, 0.04026472, 0.04026472,\n",
              "       0.11577006, 0.04026472, 0.06007903, 0.06007903, 0.04026472,\n",
              "       0.1018729 , 0.07790127, 0.11577006, 0.12014719, 0.08186549])"
            ]
          },
          "metadata": {},
          "execution_count": 425
        }
      ]
    },
    {
      "cell_type": "code",
      "metadata": {
        "colab": {
          "base_uri": "https://localhost:8080/",
          "height": 265
        },
        "id": "u92pXt1iwgac",
        "outputId": "252eeffd-c41c-4b84-9bd2-6668957bbbb7"
      },
      "source": [
        "sigma = math.sqrt(variance)\n",
        "x_axis = np.linspace(-3 * sigma + mean, 3 * sigma + mean, 100)\n",
        "\n",
        "plt.plot(x_axis, stats.norm.pdf(x_axis, mean, sd))\n",
        "plt.show()"
      ],
      "execution_count": 426,
      "outputs": [
        {
          "output_type": "display_data",
          "data": {
            "image/png": "[encoded data removed]",
            "text/plain": [
              "<Figure size 432x288 with 1 Axes>"
            ]
          },
          "metadata": {
            "needs_background": "light"
          }
        }
      ]
    },
    {
      "cell_type": "code",
      "metadata": {
        "id": "lmZvVJB3tClz",
        "colab": {
          "base_uri": "https://localhost:8080/"
        },
        "outputId": "389a6e3a-dd54-4e48-e81b-460a9cb2f8e3"
      },
      "source": [
        "skewness = skew(df[\"Grades\"].dropna())\n",
        "print(skewness)"
      ],
      "execution_count": 427,
      "outputs": [
        {
          "output_type": "stream",
          "name": "stdout",
          "text": [
            "0.23969855664115217\n"
          ]
        }
      ]
    },
    {
      "cell_type": "markdown",
      "metadata": {
        "id": "TyRJxEpQ9SyX"
      },
      "source": [
        "skewness < 0 : more weight in the right tail of the distribution. \n",
        "\n",
        "skewness = 0 : normally distributed.\n",
        "\n",
        "skewness > 0 : more weight in the left tail of the distribution."
      ]
    },
    {
      "cell_type": "code",
      "metadata": {
        "colab": {
          "base_uri": "https://localhost:8080/"
        },
        "id": "KBWfuB3DOE0C",
        "outputId": "3c271abc-486a-461e-d2c7-452c7a22d4ac"
      },
      "source": [
        "skewness = 3 * (mean - median) / std\n",
        "print(skewness)"
      ],
      "execution_count": 428,
      "outputs": [
        {
          "output_type": "stream",
          "name": "stdout",
          "text": [
            "-0.08237471693541705\n"
          ]
        }
      ]
    },
    {
      "cell_type": "code",
      "metadata": {
        "colab": {
          "base_uri": "https://localhost:8080/"
        },
        "id": "FBmq0NGV4b1s",
        "outputId": "69f7be13-e209-4409-92db-042c3ebe210d"
      },
      "source": [
        "if skewness < 0:\n",
        "  print(\"More weight in the right tail of the distribution\")\n",
        "elif skewness  > 0:\n",
        "  print(\"More weight in the left tail of the distribution.\")\n",
        "elif skewness == 0:\n",
        "  print(\"Normally distributed.\")\n"
      ],
      "execution_count": 429,
      "outputs": [
        {
          "output_type": "stream",
          "name": "stdout",
          "text": [
            "More weight in the right tail of the distribution\n"
          ]
        }
      ]
    },
    {
      "cell_type": "markdown",
      "metadata": {
        "id": "pqYTMMCG1J0L"
      },
      "source": [
        "Kutosis is a measure of thickness of the tail of a distribution"
      ]
    },
    {
      "cell_type": "code",
      "metadata": {
        "id": "PFT7TLi2oiDz",
        "colab": {
          "base_uri": "https://localhost:8080/"
        },
        "outputId": "72d89a8f-618f-442e-fdd9-40c7262011a8"
      },
      "source": [
        "kurt = kurtosis(df[\"Grades\"].dropna())\n",
        "print(kurt)\n"
      ],
      "execution_count": 430,
      "outputs": [
        {
          "output_type": "stream",
          "name": "stdout",
          "text": [
            "-0.700229437951029\n"
          ]
        }
      ]
    },
    {
      "cell_type": "code",
      "metadata": {
        "colab": {
          "base_uri": "https://localhost:8080/"
        },
        "id": "WazGfXpUzb7V",
        "outputId": "f4bf72f6-5e7d-4629-9725-9d7ada0bbf4b"
      },
      "source": [
        "if kurt > 0:\n",
        "  print(\"Leptokurtic: Peaks sharply with fat tails, less variability\")\n",
        "elif kurt == 0:\n",
        "  print(\"Normal distribution\")\n",
        "elif kurt < 0:\n",
        "  print(\"Platykurtic: Flattended, highly dispersed\")"
      ],
      "execution_count": 431,
      "outputs": [
        {
          "output_type": "stream",
          "name": "stdout",
          "text": [
            "Platykurtic: Flattended, highly dispersed\n"
          ]
        }
      ]
    }
  ]
}