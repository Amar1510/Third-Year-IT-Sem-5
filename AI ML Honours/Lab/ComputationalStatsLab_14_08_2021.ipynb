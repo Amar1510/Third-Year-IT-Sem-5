{
  "nbformat": 4,
  "nbformat_minor": 0,
  "metadata": {
    "colab": {
      "name": "ComputationalStatsLab 14/08/2021.ipynb",
      "provenance": [],
      "collapsed_sections": []
    },
    "kernelspec": {
      "name": "python3",
      "display_name": "Python 3"
    },
    "language_info": {
      "name": "python"
    }
  },
  "cells": [
    {
      "cell_type": "code",
      "metadata": {
        "id": "yIwb9YE4aF96"
      },
      "source": [
        "import numpy as np\n",
        "import pandas as pd\n",
        "import matplotlib.pyplot as plt\n",
        "import seaborn as sns"
      ],
      "execution_count": 28,
      "outputs": []
    },
    {
      "cell_type": "code",
      "metadata": {
        "colab": {
          "base_uri": "https://localhost:8080/"
        },
        "id": "8xyaEZgTaKVx",
        "outputId": "659dbaad-7c44-48e8-fe48-b12548f2f2a1"
      },
      "source": [
        "df = pd.read_csv(\"/content/drive/MyDrive/Datasets/infy data.csv\")\n",
        "print(df)"
      ],
      "execution_count": 29,
      "outputs": [
        {
          "output_type": "stream",
          "text": [
            "   Symbol       Date  ...  Deliverable Qty  % Dly Qt to Traded Qty\n",
            "0    INFY  29-Jul-21  ...          2926321                   62.78\n",
            "1    INFY  30-Jul-21  ...          4485149                   71.94\n",
            "2    INFY  02-Aug-21  ...          4318503                   77.76\n",
            "3    INFY  03-Aug-21  ...          3887460                   70.51\n",
            "4    INFY  04-Aug-21  ...          4752601                   70.51\n",
            "5    INFY  05-Aug-21  ...          3761486                   69.39\n",
            "6    INFY  06-Aug-21  ...          2558438                   68.14\n",
            "7    INFY  09-Aug-21  ...          3673439                   73.20\n",
            "8    INFY  10-Aug-21  ...          5175394                   75.59\n",
            "9    INFY  11-Aug-21  ...          3586596                   73.20\n",
            "10   INFY  12-Aug-21  ...          4217591                   74.52\n",
            "\n",
            "[11 rows x 14 columns]\n"
          ],
          "name": "stdout"
        }
      ]
    },
    {
      "cell_type": "code",
      "metadata": {
        "colab": {
          "base_uri": "https://localhost:8080/"
        },
        "id": "maRtson4cn5X",
        "outputId": "da1bf89e-0378-4fbe-c2d8-81f1d54d8347"
      },
      "source": [
        "closed_price = df.loc[:,\"Close Price\"]\n",
        "print(closed_price)"
      ],
      "execution_count": 30,
      "outputs": [
        {
          "output_type": "stream",
          "text": [
            "0     1617.00\n",
            "1     1610.50\n",
            "2     1631.55\n",
            "3     1655.20\n",
            "4     1649.25\n",
            "5     1653.55\n",
            "6     1650.20\n",
            "7     1663.30\n",
            "8     1677.25\n",
            "9     1677.55\n",
            "10    1689.60\n",
            "Name: Close Price, dtype: float64\n"
          ],
          "name": "stdout"
        }
      ]
    },
    {
      "cell_type": "code",
      "metadata": {
        "colab": {
          "base_uri": "https://localhost:8080/"
        },
        "id": "KuMEwO39dA7z",
        "outputId": "cf7233b9-66d5-4c58-95ee-854d1c896d92"
      },
      "source": [
        "mean = np.mean(closed_price)\n",
        "variance = np.var(closed_price)\n",
        "standard_deviation = np.std(closed_price)\n",
        "standard_error = standard_deviation / np.sqrt(np.size(closed_price))\n",
        "\n",
        "print(\"\"\"\n",
        "Mean: {0}\n",
        "Vaariance: {1}\n",
        "Standard Deviation: {2}\n",
        "Standard Error: {3}\n",
        "\"\"\".format(mean, variance, standard_deviation, standard_error))"
      ],
      "execution_count": 31,
      "outputs": [
        {
          "output_type": "stream",
          "text": [
            "\n",
            "Mean: 1652.2681818181816\n",
            "Vaariance: 565.447396694214\n",
            "Standard Deviation: 23.779137845897903\n",
            "Standard Error: 7.169679824816662\n",
            "\n"
          ],
          "name": "stdout"
        }
      ]
    },
    {
      "cell_type": "code",
      "metadata": {
        "colab": {
          "base_uri": "https://localhost:8080/"
        },
        "id": "hO2MwYhafbFX",
        "outputId": "ad8f44bb-918d-485e-a328-f5d794f97c11"
      },
      "source": [
        "open_price = df.loc[:,\"Open Price\"]\n",
        "date = df.loc[:,\"Date\"]\n",
        "print(open_price)\n",
        "print(date)"
      ],
      "execution_count": 37,
      "outputs": [
        {
          "output_type": "stream",
          "text": [
            "0     1600.10\n",
            "1     1610.00\n",
            "2     1627.45\n",
            "3     1647.00\n",
            "4     1669.10\n",
            "5     1649.50\n",
            "6     1657.00\n",
            "7     1661.00\n",
            "8     1668.00\n",
            "9     1674.80\n",
            "10    1679.15\n",
            "Name: Open Price, dtype: float64\n",
            "0     29-Jul-21\n",
            "1     30-Jul-21\n",
            "2     02-Aug-21\n",
            "3     03-Aug-21\n",
            "4     04-Aug-21\n",
            "5     05-Aug-21\n",
            "6     06-Aug-21\n",
            "7     09-Aug-21\n",
            "8     10-Aug-21\n",
            "9     11-Aug-21\n",
            "10    12-Aug-21\n",
            "Name: Date, dtype: object\n"
          ],
          "name": "stdout"
        }
      ]
    },
    {
      "cell_type": "code",
      "metadata": {
        "colab": {
          "base_uri": "https://localhost:8080/"
        },
        "id": "VtZK-gl0f-Ns",
        "outputId": "f797df8c-c56c-4cf6-da5a-f8555ab656ab"
      },
      "source": [
        "np.cov(open_price, closed_price)"
      ],
      "execution_count": 33,
      "outputs": [
        {
          "output_type": "execute_result",
          "data": {
            "text/plain": [
              "array([[692.70068182, 610.24779545],\n",
              "       [610.24779545, 621.99213636]])"
            ]
          },
          "metadata": {
            "tags": []
          },
          "execution_count": 33
        }
      ]
    },
    {
      "cell_type": "code",
      "metadata": {
        "id": "KCu1Rlf6gTa_",
        "colab": {
          "base_uri": "https://localhost:8080/"
        },
        "outputId": "6d66ae4f-a764-48fb-a27f-c2a8bc693ee3"
      },
      "source": [
        "np.correlate(open_price, closed_price)"
      ],
      "execution_count": 34,
      "outputs": [
        {
          "output_type": "execute_result",
          "data": {
            "text/plain": [
              "array([29983369.3275])"
            ]
          },
          "metadata": {
            "tags": []
          },
          "execution_count": 34
        }
      ]
    },
    {
      "cell_type": "code",
      "metadata": {
        "colab": {
          "base_uri": "https://localhost:8080/",
          "height": 332
        },
        "id": "aAHv7uM9hmHj",
        "outputId": "1ce98668-9f67-4ee3-9a50-3b3d7a06c2e8"
      },
      "source": [
        "plt.hist(closed_price, color = 'blue', edgecolor = 'black',\n",
        "         bins = 10)"
      ],
      "execution_count": 36,
      "outputs": [
        {
          "output_type": "execute_result",
          "data": {
            "text/plain": [
              "(array([2., 0., 1., 0., 1., 3., 1., 0., 2., 1.]),\n",
              " array([1610.5 , 1618.41, 1626.32, 1634.23, 1642.14, 1650.05, 1657.96,\n",
              "        1665.87, 1673.78, 1681.69, 1689.6 ]),\n",
              " <a list of 10 Patch objects>)"
            ]
          },
          "metadata": {
            "tags": []
          },
          "execution_count": 36
        },
        {
          "output_type": "display_data",
          "data": {
            "image/png": "[encoded data removed]",
            "text/plain": [
              "<Figure size 432x288 with 1 Axes>"
            ]
          },
          "metadata": {
            "tags": [],
            "needs_background": "light"
          }
        }
      ]
    },
    {
      "cell_type": "code",
      "metadata": {
        "colab": {
          "base_uri": "https://localhost:8080/",
          "height": 295
        },
        "id": "looknU61j56b",
        "outputId": "f5603e34-b9c1-4c75-9c19-ef36e57579b5"
      },
      "source": [
        "plt.plot(date, closed_price)\n",
        "  \n",
        "# naming the x axis\n",
        "plt.xlabel('Date')\n",
        "# naming the y axis\n",
        "plt.ylabel('Closed Price')\n",
        "  \n",
        "# giving a title to my graph\n",
        "plt.title('Closed price VS Date')\n",
        "  \n",
        "# function to show the plot\n",
        "plt.show()"
      ],
      "execution_count": 39,
      "outputs": [
        {
          "output_type": "display_data",
          "data": {
            "image/png": "[encoded data removed]",
            "text/plain": [
              "<Figure size 432x288 with 1 Axes>"
            ]
          },
          "metadata": {
            "tags": [],
            "needs_background": "light"
          }
        }
      ]
    },
    {
      "cell_type": "code",
      "metadata": {
        "colab": {
          "base_uri": "https://localhost:8080/",
          "height": 295
        },
        "id": "coBaYd11kw8U",
        "outputId": "947edbbc-fd80-4632-a59b-0648ad178b57"
      },
      "source": [
        "plt.plot(date, open_price, label = \"Open Price\")\n",
        "  \n",
        "# plotting the line 2 points \n",
        "plt.plot(date, closed_price, label = \"Closed Price\")\n",
        "  \n",
        "# # naming the x axis\n",
        "plt.xlabel('x - axis')\n",
        "# # naming the y axis\n",
        "plt.ylabel('y - axis')\n",
        "# # giving a title to my graph\n",
        "plt.title('Open Price and Closed Price wrt date')\n",
        "  \n",
        "# show a legend on the plot\n",
        "plt.legend()\n",
        "  \n",
        "# function to show the plot\n",
        "plt.show()"
      ],
      "execution_count": 44,
      "outputs": [
        {
          "output_type": "display_data",
          "data": {
            "image/png": "[encoded data removed]",
            "text/plain": [
              "<Figure size 432x288 with 1 Axes>"
            ]
          },
          "metadata": {
            "tags": [],
            "needs_background": "light"
          }
        }
      ]
    },
    {
      "cell_type": "code",
      "metadata": {
        "colab": {
          "base_uri": "https://localhost:8080/",
          "height": 295
        },
        "id": "MvQ1sSR0lbny",
        "outputId": "0c5a2122-c869-4296-c92d-68bbf1b01cf4"
      },
      "source": [
        "# plotting points as a scatter plot\n",
        "plt.scatter(closed_price, date, label= \"Closed Price\", color= \"green\", \n",
        "            marker= \"*\", s=30)\n",
        "  \n",
        "# x-axis label\n",
        "plt.xlabel('Date')\n",
        "# frequency label\n",
        "plt.ylabel('Closed Price')\n",
        "# plot title\n",
        "plt.title('Scatter Plot of Closed Price VS Date')\n",
        "# showing legend\n",
        "plt.legend()\n",
        "  \n",
        "# function to show the plot\n",
        "plt.show()"
      ],
      "execution_count": 57,
      "outputs": [
        {
          "output_type": "display_data",
          "data": {
            "image/png": "[encoded data removed]",
            "text/plain": [
              "<Figure size 432x288 with 1 Axes>"
            ]
          },
          "metadata": {
            "tags": [],
            "needs_background": "light"
          }
        }
      ]
    },
    {
      "cell_type": "code",
      "metadata": {
        "id": "1IhBHy0BmIMu"
      },
      "source": [
        ""
      ],
      "execution_count": null,
      "outputs": []
    }
  ]
}